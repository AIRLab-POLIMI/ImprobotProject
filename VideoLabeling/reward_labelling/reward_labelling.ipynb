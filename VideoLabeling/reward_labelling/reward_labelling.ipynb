{
 "cells": [
  {
   "cell_type": "code",
   "execution_count": 4,
   "metadata": {},
   "outputs": [],
   "source": [
    "import os\n",
    "import json"
   ]
  },
  {
   "cell_type": "code",
   "execution_count": 5,
   "metadata": {},
   "outputs": [],
   "source": [
    "answer_path = os.getcwd() + '\\Answers_09_05_2023.json'\n",
    "video1_path = os.getcwd() + '\\impro1_labelled.json'\n",
    "video2_path = os.getcwd() + '\\impro2_labelled.json'\n",
    "video3_path = os.getcwd() + '\\impro3_labelled.json'\n",
    "video4_path = os.getcwd() + '\\impro4_labelled.json'"
   ]
  },
  {
   "cell_type": "code",
   "execution_count": 6,
   "metadata": {},
   "outputs": [],
   "source": [
    "\n",
    "with open(answer_path) as ans:\n",
    "    answers = json.load(ans)\n",
    "\n",
    "with open(video1_path) as v1:\n",
    "    video1_scenes = json.load(v1)\n",
    "with open(video2_path) as v2:\n",
    "    video2_scenes = json.load(v2)\n",
    "with open(video3_path) as v3:\n",
    "    video3_scenes = json.load(v3)\n",
    "with open(video4_path) as v4:\n",
    "    video4_scenes = json.load(v4)"
   ]
  },
  {
   "cell_type": "code",
   "execution_count": 7,
   "metadata": {},
   "outputs": [],
   "source": [
    "# add reward field to scenes\n",
    "for video in [video1_scenes, video2_scenes, video3_scenes, video4_scenes]:\n",
    "    for scene in video:\n",
    "        scene['reward'] = 0"
   ]
  },
  {
   "cell_type": "code",
   "execution_count": 8,
   "metadata": {},
   "outputs": [
    {
     "name": "stdout",
     "output_type": "stream",
     "text": [
      "25\n",
      "20\n",
      "17\n",
      "17\n"
     ]
    }
   ],
   "source": [
    "impro1_votes = []\n",
    "impro2_votes = []\n",
    "impro3_votes = []\n",
    "impro4_votes = []\n",
    "\n",
    "for item in answers:\n",
    "    video_id = item['video_id']\n",
    "    \n",
    "    match video_id:\n",
    "        case 1:\n",
    "            impro1_votes.append(item)\n",
    "        case 2:\n",
    "            impro2_votes.append(item)\n",
    "        case 3:\n",
    "            impro3_votes.append(item)\n",
    "        case 4:\n",
    "            impro4_votes.append(item)\n",
    "\n",
    "print(len(impro1_votes))\n",
    "print(len(impro2_votes))\n",
    "print(len(impro3_votes))\n",
    "print(len(impro4_votes))"
   ]
  },
  {
   "cell_type": "code",
   "execution_count": 9,
   "metadata": {},
   "outputs": [],
   "source": [
    "likes_amount1 = 0\n",
    "dislikes_amount1 = 0\n",
    "for  vote in impro1_votes:\n",
    "    likes_amount1 += len(vote['like'])\n",
    "    dislikes_amount1 += len(vote['dislike'])\n",
    "    for like_time in vote['like']:\n",
    "        for scene in video1_scenes:\n",
    "            if scene['start_time']<=like_time and like_time<scene['end_time']:\n",
    "                scene['reward'] += 1\n",
    "                break\n",
    "    for dislike_time in vote['dislike']:\n",
    "        for scene in video1_scenes:\n",
    "            if scene['start_time']<=dislike_time and dislike_time<scene['end_time']:\n",
    "                scene['reward'] -= 1\n",
    "                break"
   ]
  },
  {
   "cell_type": "code",
   "execution_count": 10,
   "metadata": {},
   "outputs": [
    {
     "name": "stdout",
     "output_type": "stream",
     "text": [
      "[{'sequence_number': 0, 'actor_scenicAction': 'happy_person', 'robot_reaction': 'sharing_happiness', 'start_time': 0, 'end_time': 25.012033, 'reward': 10}, {'sequence_number': 1, 'actor_scenicAction': 'share_fear', 'robot_reaction': 'sharing_sadness', 'start_time': 25.012033, 'end_time': 30.855443, 'reward': -3}, {'sequence_number': 2, 'actor_scenicAction': 'surprise', 'robot_reaction': 'grudge', 'start_time': 30.855443, 'end_time': 41.479962, 'reward': -6}, {'sequence_number': 7, 'actor_scenicAction': 'sharing_happiness', 'robot_reaction': 'running_away', 'start_time': 41.479962, 'end_time': 59.486554, 'reward': -7}, {'sequence_number': 9, 'actor_scenicAction': 'satisfaction', 'robot_reaction': 'intimidate', 'start_time': 59.486554, 'end_time': 67.985804, 'reward': 12}, {'sequence_number': 10, 'actor_scenicAction': 'sharing_happiness', 'robot_reaction': 'happy_person', 'start_time': 67.985804, 'end_time': 82.595248, 'reward': 12}, {'sequence_number': 11, 'actor_scenicAction': 'happy_person', 'robot_reaction': 'sharing_happiness', 'start_time': 82.595248, 'end_time': 111.813776, 'reward': 1}, {'sequence_number': 12, 'actor_scenicAction': 'scolding', 'robot_reaction': 'running_away', 'start_time': 111.813776, 'end_time': 121.907529, 'reward': 4}, {'sequence_number': 0, 'actor_scenicAction': 'sharing_sadness', 'robot_reaction': 'intimidate', 'start_time': 121.907529, 'end_time': 131.736507, 'reward': 2}, {'sequence_number': 1, 'actor_scenicAction': 'sharing_sadness', 'robot_reaction': 'surprise', 'start_time': 131.736507, 'end_time': 139.173301, 'reward': 0}, {'sequence_number': 2, 'actor_scenicAction': 'disappointment', 'robot_reaction': 'surprise', 'start_time': 139.173301, 'end_time': 146.876448, 'reward': 3}, {'sequence_number': 3, 'actor_scenicAction': 'happy_person', 'robot_reaction': 'satisfaction', 'start_time': 146.876448, 'end_time': 156.439436, 'reward': 2}, {'sequence_number': 9, 'actor_scenicAction': 'disappointment', 'robot_reaction': 'intimidate', 'start_time': 156.439436, 'end_time': 173.704441, 'reward': 3}, {'sequence_number': 10, 'actor_scenicAction': 'intimidate', 'robot_reaction': 'surprise', 'start_time': 173.704441, 'end_time': 181.407807, 'reward': 1}, {'sequence_number': 11, 'actor_scenicAction': 'happy_person', 'robot_reaction': 'astonishment', 'start_time': 181.407807, 'end_time': 200.268331, 'reward': 6}, {'sequence_number': 12, 'actor_scenicAction': 'satisfaction', 'robot_reaction': 'attack', 'start_time': 200.268331, 'end_time': 208.502133, 'reward': 4}, {'sequence_number': 13, 'actor_scenicAction': 'sharing_fear', 'robot_reaction': 'sharing_sadness', 'start_time': 208.502133, 'end_time': 215.408379, 'reward': 3}, {'sequence_number': 14, 'actor_scenicAction': 'happy_person', 'robot_reaction': 'disappointment', 'start_time': 215.408379, 'end_time': 229.751983, 'reward': -1}, {'sequence_number': 0, 'actor_scenicAction': 'sharing_happiness', 'robot_reaction': 'intimidate', 'start_time': 229.751983, 'end_time': 238.519004, 'reward': 4}, {'sequence_number': 1, 'actor_scenicAction': 'happy_person', 'robot_reaction': 'sharing_fear', 'start_time': 238.519004, 'end_time': 252.595118, 'reward': 4}, {'sequence_number': 2, 'actor_scenicAction': 'sharing_fear', 'robot_reaction': 'attack', 'start_time': 252.595118, 'end_time': 262.689358, 'reward': 3}, {'sequence_number': 3, 'actor_scenicAction': 'disappointment', 'robot_reaction': 'disappointment', 'start_time': 262.689358, 'end_time': 279.8498, 'reward': -1}, {'sequence_number': 4, 'actor_scenicAction': 'disappointment', 'robot_reaction': 'astonishment', 'start_time': 279.8498, 'end_time': 290.210192, 'reward': 0}, {'sequence_number': 5, 'actor_scenicAction': 'sharing_sadness', 'robot_reaction': 'running_away', 'start_time': 290.210192, 'end_time': 299.505695, 'reward': -3}, {'sequence_number': 6, 'actor_scenicAction': 'sharing_sadness', 'robot_reaction': 'sharing_fear', 'start_time': 299.505695, 'end_time': 324.208551, 'reward': 4}, {'sequence_number': 7, 'actor_scenicAction': 'intimidate', 'robot_reaction': 'scolding', 'start_time': 324.208551, 'end_time': 340.411161, 'reward': 4}, {'sequence_number': 8, 'actor_scenicAction': 'disappointment', 'robot_reaction': 'surprise', 'start_time': 340.411161, 'end_time': 351.833286, 'reward': 0}, {'sequence_number': 9, 'actor_scenicAction': 'sharing_sadness', 'robot_reaction': 'disappointment', 'start_time': 351.833286, 'end_time': 364.318194, 'reward': -1}, {'sequence_number': 10, 'actor_scenicAction': 'grudge', 'robot_reaction': 'sharing_sadness', 'start_time': 364.318194, 'end_time': 373.349914, 'reward': 3}, {'sequence_number': 11, 'actor_scenicAction': 'scolding', 'robot_reaction': 'running_away', 'start_time': 373.349914, 'end_time': 380.786786, 'reward': 4}, {'sequence_number': 0, 'actor_scenicAction': 'sharing_happiness', 'robot_reaction': 'happy_person', 'start_time': 380.786786, 'end_time': 404.693077, 'reward': 4}, {'sequence_number': 1, 'actor_scenicAction': 'happy_person', 'robot_reaction': 'sharing_happiness', 'start_time': 404.693077, 'end_time': 425.146328, 'reward': 6}, {'sequence_number': 2, 'actor_scenicAction': 'disbelief', 'robot_reaction': 'astonishment', 'start_time': 425.146328, 'end_time': 436.037037, 'reward': 3}, {'sequence_number': 0, 'actor_scenicAction': 'satisfaction', 'robot_reaction': 'grudge', 'start_time': 436.037037, 'end_time': 446.927742, 'reward': 1}, {'sequence_number': 1, 'actor_scenicAction': 'sharing_fear', 'robot_reaction': 'sharing_happiness', 'start_time': 446.927742, 'end_time': 462.865021, 'reward': 14}, {'sequence_number': 2, 'actor_scenicAction': 'sharing_sadness', 'robot_reaction': 'scolding', 'start_time': 462.865021, 'end_time': 480.130681, 'reward': 8}, {'sequence_number': 3, 'actor_scenicAction': 'sharing_sadness', 'robot_reaction': 'disbelief', 'start_time': 480.130681, 'end_time': 493.942729, 'reward': 3}, {'sequence_number': 5, 'actor_scenicAction': 'astonishment', 'robot_reaction': 'sharing_fear', 'start_time': 493.942729, 'end_time': 516.786901, 'reward': 3}, {'sequence_number': 6, 'actor_scenicAction': 'sharing_sadness', 'robot_reaction': 'intimidate', 'start_time': 516.786901, 'end_time': 524.755189, 'reward': 0}, {'sequence_number': 7, 'actor_scenicAction': 'grudge', 'robot_reaction': 'sharing_sadness', 'start_time': 524.755189, 'end_time': 530.598757, 'reward': 1}, {'sequence_number': 8, 'actor_scenicAction': 'grudge', 'robot_reaction': 'disbelief', 'start_time': 530.598757, 'end_time': 543.349834, 'reward': 3}, {'sequence_number': 9, 'actor_scenicAction': 'sharing_sadness', 'robot_reaction': 'sharing_happiness', 'start_time': 543.349834, 'end_time': 559.021266, 'reward': 6}, {'sequence_number': 10, 'actor_scenicAction': 'happy_person', 'robot_reaction': 'grudge', 'start_time': 559.021266, 'end_time': 570, 'reward': 5}]\n",
      "214\n",
      "89\n"
     ]
    }
   ],
   "source": [
    "print(video1_scenes)\n",
    "print(likes_amount1)\n",
    "print(dislikes_amount1)"
   ]
  },
  {
   "cell_type": "code",
   "execution_count": 11,
   "metadata": {},
   "outputs": [],
   "source": [
    "likes_amount2 = 0\n",
    "dislikes_amount2 = 0\n",
    "for  vote in impro2_votes:\n",
    "    likes_amount2 += len(vote['like'])\n",
    "    dislikes_amount2 += len(vote['dislike'])\n",
    "    for like_time in vote['like']:\n",
    "        for scene in video2_scenes:\n",
    "            if scene['start_time']<=like_time and like_time<scene['end_time']:\n",
    "                scene['reward'] += 1\n",
    "                break\n",
    "    for dislike_time in vote['dislike']:\n",
    "        for scene in video2_scenes:\n",
    "            if scene['start_time']<=dislike_time and dislike_time<scene['end_time']:\n",
    "                scene['reward'] -= 1\n",
    "                break"
   ]
  },
  {
   "cell_type": "code",
   "execution_count": 12,
   "metadata": {},
   "outputs": [
    {
     "name": "stdout",
     "output_type": "stream",
     "text": [
      "[{'sequence_number': 1, 'actor_scenicAction': 'happy_person', 'robot_reaction': 'happy_person', 'start_time': 0, 'end_time': 25.871647, 'reward': 2}, {'sequence_number': 2, 'actor_scenicAction': 'happy_person', 'robot_reaction': 'satisfaction', 'start_time': 25.871647, 'end_time': 38.230651, 'reward': 3}, {'sequence_number': 7, 'actor_scenicAction': 'sharing_sadness', 'robot_reaction': 'sharing_happiness', 'start_time': 38.230651, 'end_time': 56.33919, 'reward': 4}, {'sequence_number': 14, 'actor_scenicAction': 'intimidate', 'robot_reaction': 'surprise', 'start_time': 56.33919, 'end_time': 62.182937, 'reward': 0}, {'sequence_number': 0, 'actor_scenicAction': 'sharing_sadness', 'robot_reaction': 'disbelief', 'start_time': 62.182937, 'end_time': 80.245326, 'reward': -1}, {'sequence_number': 1, 'actor_scenicAction': 'attack', 'robot_reaction': 'satisfaction', 'start_time': 80.245326, 'end_time': 92.464327, 'reward': -1}, {'sequence_number': 2, 'actor_scenicAction': 'intimidate', 'robot_reaction': 'astonishment', 'start_time': 92.464327, 'end_time': 103.886258, 'reward': 4}, {'sequence_number': 4, 'actor_scenicAction': 'attack', 'robot_reaction': 'surprise', 'start_time': 103.886258, 'end_time': 111.589296, 'reward': 0}, {'sequence_number': 5, 'actor_scenicAction': 'sharing_sadness', 'robot_reaction': 'satisfaction', 'start_time': 111.589296, 'end_time': 124.340093, 'reward': 0}, {'sequence_number': 6, 'actor_scenicAction': 'satisfaction', 'robot_reaction': 'surprise', 'start_time': 124.340093, 'end_time': 131.511383, 'reward': 1}, {'sequence_number': 7, 'actor_scenicAction': 'happy_person', 'robot_reaction': 'disappointment', 'start_time': 131.511383, 'end_time': 144.261561, 'reward': -3}, {'sequence_number': 9, 'actor_scenicAction': 'happy_person', 'robot_reaction': 'surprise', 'start_time': 144.261561, 'end_time': 151.698603, 'reward': 2}, {'sequence_number': 10, 'actor_scenicAction': 'happy_person', 'robot_reaction': 'grudge', 'start_time': 151.698603, 'end_time': 162.058346, 'reward': -1}, {'sequence_number': 13, 'actor_scenicAction': 'sharing_sadness', 'robot_reaction': 'running_away', 'start_time': 162.058346, 'end_time': 175.073277, 'reward': -1}, {'sequence_number': 0, 'actor_scenicAction': 'intimidate', 'robot_reaction': 'astonishment', 'start_time': 175.073277, 'end_time': 184.37098, 'reward': 0}, {'sequence_number': 1, 'actor_scenicAction': 'intimidate', 'robot_reaction': 'astonishment', 'start_time': 184.37098, 'end_time': 192.604524, 'reward': 0}, {'sequence_number': 2, 'actor_scenicAction': 'intimidate', 'robot_reaction': 'astonishment', 'start_time': 192.604524, 'end_time': 201.917533, 'reward': 2}, {'sequence_number': 3, 'actor_scenicAction': 'happy_person', 'robot_reaction': 'running_away', 'start_time': 201.917533, 'end_time': 211.480145, 'reward': 2}, {'sequence_number': 0, 'actor_scenicAction': 'sharing_happiness', 'robot_reaction': 'happy_person', 'start_time': 211.480145, 'end_time': 229.807853, 'reward': 8}, {'sequence_number': 1, 'actor_scenicAction': 'happy_person', 'robot_reaction': 'happy_person', 'start_time': 229.807853, 'end_time': 247.074618, 'reward': 2}, {'sequence_number': 4, 'actor_scenicAction': 'sharing_sadness', 'robot_reaction': 'attack', 'start_time': 247.074618, 'end_time': 255.042114, 'reward': -1}, {'sequence_number': 5, 'actor_scenicAction': 'sharing_sadness', 'robot_reaction': 'sharing_sadness', 'start_time': 255.042114, 'end_time': 271.51148, 'reward': -1}, {'sequence_number': 9, 'actor_scenicAction': 'satisfaction', 'robot_reaction': 'astonishment', 'start_time': 271.51148, 'end_time': 279.480536, 'reward': -1}, {'sequence_number': 10, 'actor_scenicAction': 'satisfaction', 'robot_reaction': 'sharing_fear', 'start_time': 279.480536, 'end_time': 296.479914, 'reward': 0}, {'sequence_number': 11, 'actor_scenicAction': 'satisfaction', 'robot_reaction': 'surprise', 'start_time': 296.479914, 'end_time': 304.44949, 'reward': 1}, {'sequence_number': 12, 'actor_scenicAction': 'satisfaction', 'robot_reaction': 'attack', 'start_time': 304.44949, 'end_time': 311.887445, 'reward': 0}, {'sequence_number': 13, 'actor_scenicAction': 'satisfaction', 'robot_reaction': 'astonishment', 'start_time': 311.887445, 'end_time': 319.854675, 'reward': 0}, {'sequence_number': 14, 'actor_scenicAction': 'satisfaction', 'robot_reaction': 'sharing_fear', 'start_time': 319.854675, 'end_time': 344.292515, 'reward': 0}, {'sequence_number': 0, 'actor_scenicAction': 'sharing_sadness', 'robot_reaction': 'astonishment', 'start_time': 344.292515, 'end_time': 357.839092, 'reward': 1}, {'sequence_number': 1, 'actor_scenicAction': 'sharing_sadness', 'robot_reaction': 'astonishment', 'start_time': 357.839092, 'end_time': 369.793637, 'reward': 3}, {'sequence_number': 2, 'actor_scenicAction': 'happy_person', 'robot_reaction': 'astonishment', 'start_time': 369.793637, 'end_time': 374.840664, 'reward': 1}, {'sequence_number': 0, 'actor_scenicAction': 'sharing_sadness', 'robot_reaction': 'surprise', 'start_time': 374.840664, 'end_time': 382.277348, 'reward': 3}, {'sequence_number': 1, 'actor_scenicAction': 'astonishment', 'robot_reaction': 'satisfaction', 'start_time': 382.277348, 'end_time': 395.026704, 'reward': 7}, {'sequence_number': 2, 'actor_scenicAction': 'intimidate', 'robot_reaction': 'astonishment', 'start_time': 395.026704, 'end_time': 402.730219, 'reward': 3}, {'sequence_number': 3, 'actor_scenicAction': 'scolding', 'robot_reaction': 'happy_person', 'start_time': 402.730219, 'end_time': 417.6052, 'reward': 1}, {'sequence_number': 4, 'actor_scenicAction': 'scolding', 'robot_reaction': 'astonishment', 'start_time': 417.6052, 'end_time': 426.370845, 'reward': 3}, {'sequence_number': 5, 'actor_scenicAction': 'scolding', 'robot_reaction': 'disbelief', 'start_time': 426.370845, 'end_time': 439.472231, 'reward': 5}, {'sequence_number': 6, 'actor_scenicAction': 'disappointment', 'robot_reaction': 'satisfaction', 'start_time': 439.472231, 'end_time': 451.427155, 'reward': -1}, {'sequence_number': 7, 'actor_scenicAction': 'sharing_sadness', 'robot_reaction': 'scolding', 'start_time': 451.427155, 'end_time': 468.105283, 'reward': 1}, {'sequence_number': 8, 'actor_scenicAction': 'attack', 'robot_reaction': 'surprise', 'start_time': 468.105283, 'end_time': 474.9651, 'reward': 0}, {'sequence_number': 2, 'actor_scenicAction': 'scolding', 'robot_reaction': 'astonishment', 'start_time': 474.9651, 'end_time': 484.528437, 'reward': 0}, {'sequence_number': 3, 'actor_scenicAction': 'scolding', 'robot_reaction': 'astonishment', 'start_time': 484.528437, 'end_time': 493.02842, 'reward': 0}, {'sequence_number': 4, 'actor_scenicAction': 'disappointment', 'robot_reaction': 'intimidate', 'start_time': 493.02842, 'end_time': 508.702759, 'reward': 4}, {'sequence_number': 5, 'actor_scenicAction': 'sharing_sadness', 'robot_reaction': 'disbelief', 'start_time': 508.702759, 'end_time': 521.716635, 'reward': 0}, {'sequence_number': 6, 'actor_scenicAction': 'sharing_sadness', 'robot_reaction': 'happy_person', 'start_time': 521.716635, 'end_time': 537.122007, 'reward': 0}, {'sequence_number': 7, 'actor_scenicAction': 'sharing_happiness', 'robot_reaction': 'grudge', 'start_time': 537.122007, 'end_time': 547.747496, 'reward': -2}, {'sequence_number': 8, 'actor_scenicAction': 'disappointment', 'robot_reaction': 'sharing_fear', 'start_time': 547.747496, 'end_time': 560.762795, 'reward': 4}, {'sequence_number': 9, 'actor_scenicAction': 'sharing_happiness', 'robot_reaction': 'attack', 'start_time': 560.762795, 'end_time': 569.262051, 'reward': 0}, {'sequence_number': 10, 'actor_scenicAction': 'sharing_happiness', 'robot_reaction': 'scolding', 'start_time': 569.262051, 'end_time': 582.013141, 'reward': 4}, {'sequence_number': 11, 'actor_scenicAction': 'scolding', 'robot_reaction': 'surprise', 'start_time': 582.013141, 'end_time': 591.310122, 'reward': 2}, {'sequence_number': 2, 'actor_scenicAction': 'happy_person', 'robot_reaction': 'happy_person', 'start_time': 591.310122, 'end_time': 606.184667, 'reward': -1}, {'sequence_number': 3, 'actor_scenicAction': 'surprise', 'robot_reaction': 'disbelief', 'start_time': 606.184667, 'end_time': 619.73108, 'reward': 3}, {'sequence_number': 4, 'actor_scenicAction': 'disappointment', 'robot_reaction': 'disappointment', 'start_time': 619.73108, 'end_time': 632.482944, 'reward': -1}, {'sequence_number': 5, 'actor_scenicAction': 'sharing_happiness', 'robot_reaction': 'sharing_happiness', 'start_time': 632.482944, 'end_time': 644, 'reward': 9}]\n",
      "130\n",
      "60\n"
     ]
    }
   ],
   "source": [
    "print(video2_scenes)\n",
    "print(likes_amount2)\n",
    "print(dislikes_amount2)"
   ]
  },
  {
   "cell_type": "code",
   "execution_count": 13,
   "metadata": {},
   "outputs": [],
   "source": [
    "likes_amount3 = 0\n",
    "dislikes_amount3 = 0\n",
    "for  vote in impro3_votes:\n",
    "    likes_amount3 += len(vote['like'])\n",
    "    dislikes_amount3 += len(vote['dislike'])\n",
    "    for like_time in vote['like']:\n",
    "        for scene in video3_scenes:\n",
    "            if scene['start_time']<=like_time and like_time<scene['end_time']:\n",
    "                scene['reward'] += 1\n",
    "                break\n",
    "    for dislike_time in vote['dislike']:\n",
    "        for scene in video3_scenes:\n",
    "            if scene['start_time']<=dislike_time and dislike_time<scene['end_time']:\n",
    "                scene['reward'] -= 1\n",
    "                break"
   ]
  },
  {
   "cell_type": "code",
   "execution_count": 14,
   "metadata": {},
   "outputs": [
    {
     "name": "stdout",
     "output_type": "stream",
     "text": [
      "[{'sequence_number': 1, 'actor_scenicAction': 'sharing_happiness', 'robot_reaction': 'astonishment', 'start_time': 0, 'end_time': 17.49462, 'reward': 0}, {'sequence_number': 2, 'actor_scenicAction': 'sharing_happiness', 'robot_reaction': 'happy_person', 'start_time': 17.49462, 'end_time': 28.386891, 'reward': 1}, {'sequence_number': 9, 'actor_scenicAction': 'happy_person', 'robot_reaction': 'sharing_happiness', 'start_time': 28.386891, 'end_time': 44.322873, 'reward': -1}, {'sequence_number': 13, 'actor_scenicAction': 'happy_person', 'robot_reaction': 'astonishment', 'start_time': 44.322873, 'end_time': 53.621051, 'reward': 1}, {'sequence_number': 14, 'actor_scenicAction': 'grudge', 'robot_reaction': 'sharing_happiness', 'start_time': 53.621051, 'end_time': 70.354162, 'reward': -4}, {'sequence_number': 3, 'actor_scenicAction': 'astonishment', 'robot_reaction': 'disappointment', 'start_time': 70.354162, 'end_time': 86.292265, 'reward': 0}, {'sequence_number': 4, 'actor_scenicAction': 'sharing_sadness', 'robot_reaction': 'sharing_sadness', 'start_time': 86.292265, 'end_time': 95.058006, 'reward': 2}, {'sequence_number': 5, 'actor_scenicAction': 'disbelief', 'robot_reaction': 'astonishment', 'start_time': 95.058006, 'end_time': 105.151859, 'reward': 2}, {'sequence_number': 6, 'actor_scenicAction': 'intimidate', 'robot_reaction': 'intimidate', 'start_time': 105.151859, 'end_time': 113.386233, 'reward': 3}, {'sequence_number': 7, 'actor_scenicAction': 'intimidate', 'robot_reaction': 'intimidate', 'start_time': 113.386233, 'end_time': 126.9332, 'reward': 3}, {'sequence_number': 9, 'actor_scenicAction': 'satisfaction', 'robot_reaction': 'scolding', 'start_time': 126.9332, 'end_time': 139.68267, 'reward': 5}, {'sequence_number': 10, 'actor_scenicAction': 'sharing_sadness', 'robot_reaction': 'astonishment', 'start_time': 139.68267, 'end_time': 147.916232, 'reward': 1}, {'sequence_number': 11, 'actor_scenicAction': 'sharing_sadness', 'robot_reaction': 'astonishment', 'start_time': 147.916232, 'end_time': 155.353874, 'reward': 0}, {'sequence_number': 12, 'actor_scenicAction': 'intimidate', 'robot_reaction': 'disappointment', 'start_time': 155.353874, 'end_time': 169.16665, 'reward': 1}, {'sequence_number': 13, 'actor_scenicAction': 'sharing_fear', 'robot_reaction': 'surprise', 'start_time': 169.16665, 'end_time': 178.463397, 'reward': -1}, {'sequence_number': 14, 'actor_scenicAction': 'sharing_sadness', 'robot_reaction': 'intimidate', 'start_time': 178.463397, 'end_time': 191.213959, 'reward': 2}, {'sequence_number': 0, 'actor_scenicAction': 'happy_person', 'robot_reaction': 'surprise', 'start_time': 191.213959, 'end_time': 198.38562, 'reward': 0}, {'sequence_number': 1, 'actor_scenicAction': 'sharing_happiness', 'robot_reaction': 'disbelief', 'start_time': 198.38562, 'end_time': 211.667727, 'reward': 0}, {'sequence_number': 2, 'actor_scenicAction': 'scolding', 'robot_reaction': 'happy_person', 'start_time': 211.667727, 'end_time': 226.542603, 'reward': -1}, {'sequence_number': 3, 'actor_scenicAction': 'disappointment', 'robot_reaction': 'astonishment', 'start_time': 226.542603, 'end_time': 233.980294, 'reward': 0}, {'sequence_number': 4, 'actor_scenicAction': 'disappointment', 'robot_reaction': 'intimidate', 'start_time': 233.980294, 'end_time': 242.479696, 'reward': 3}, {'sequence_number': 5, 'actor_scenicAction': 'sharing_sadness', 'robot_reaction': 'intimidate', 'start_time': 242.479696, 'end_time': 251.509956, 'reward': 2}, {'sequence_number': 6, 'actor_scenicAction': 'sharing_fear', 'robot_reaction': 'astonishment', 'start_time': 251.509956, 'end_time': 271.965056, 'reward': -1}, {'sequence_number': 7, 'actor_scenicAction': 'astonishment', 'robot_reaction': 'satisfaction', 'start_time': 271.965056, 'end_time': 284.182631, 'reward': 0}, {'sequence_number': 8, 'actor_scenicAction': 'sharing_sadness', 'robot_reaction': 'surprise', 'start_time': 284.182631, 'end_time': 294.277504, 'reward': 2}, {'sequence_number': 0, 'actor_scenicAction': 'sharing_sadness', 'robot_reaction': 'grudge', 'start_time': 294.277504, 'end_time': 305.96358, 'reward': 1}, {'sequence_number': 1, 'actor_scenicAction': 'sharing_sadness', 'robot_reaction': 'astonishment', 'start_time': 305.96358, 'end_time': 323.494811, 'reward': 1}, {'sequence_number': 2, 'actor_scenicAction': 'astonishment', 'robot_reaction': 'sharing_happiness', 'start_time': 323.494811, 'end_time': 339.698455, 'reward': 1}, {'sequence_number': 3, 'actor_scenicAction': 'sharing_sadness', 'robot_reaction': 'sharing_happiness', 'start_time': 339.698455, 'end_time': 352.449344, 'reward': 0}, {'sequence_number': 5, 'actor_scenicAction': 'sharing_sadness', 'robot_reaction': 'astonishment', 'start_time': 352.449344, 'end_time': 362.011391, 'reward': 0}, {'sequence_number': 7, 'actor_scenicAction': 'sharing_fear', 'robot_reaction': 'scolding', 'start_time': 362.011391, 'end_time': 375.027415, 'reward': 0}, {'sequence_number': 8, 'actor_scenicAction': 'sharing_fear', 'robot_reaction': 'surprise', 'start_time': 375.027415, 'end_time': 394.417902, 'reward': -2}, {'sequence_number': 9, 'actor_scenicAction': 'sharing_sadness', 'robot_reaction': 'sharing_happiness', 'start_time': 394.417902, 'end_time': 410.355246, 'reward': 1}, {'sequence_number': 10, 'actor_scenicAction': 'sharing_fear', 'robot_reaction': 'disappointment', 'start_time': 410.355246, 'end_time': 425.761116, 'reward': 0}, {'sequence_number': 11, 'actor_scenicAction': 'disbelief', 'robot_reaction': 'grudge', 'start_time': 425.761116, 'end_time': 439.042361, 'reward': 0}, {'sequence_number': 12, 'actor_scenicAction': 'intimidate', 'robot_reaction': 'surprise', 'start_time': 439.042361, 'end_time': 450.99482, 'reward': 3}, {'sequence_number': 13, 'actor_scenicAction': 'grudge', 'robot_reaction': 'intimidate', 'start_time': 450.99482, 'end_time': 461.088402, 'reward': 3}, {'sequence_number': 0, 'actor_scenicAction': 'sharing_sadness', 'robot_reaction': 'astonishment', 'start_time': 461.088402, 'end_time': 469.604615, 'reward': 1}, {'sequence_number': 1, 'actor_scenicAction': 'sharing_happiness', 'robot_reaction': 'sharing_sadness', 'start_time': 469.604615, 'end_time': 475.713383, 'reward': 0}, {'sequence_number': 2, 'actor_scenicAction': 'sharing_fear', 'robot_reaction': 'grudge', 'start_time': 475.713383, 'end_time': 484.213442, 'reward': -2}, {'sequence_number': 3, 'actor_scenicAction': 'sharing_sadness', 'robot_reaction': 'disappointment', 'start_time': 484.213442, 'end_time': 495.636405, 'reward': 1}, {'sequence_number': 4, 'actor_scenicAction': 'sharing_sadness', 'robot_reaction': 'running_away', 'start_time': 495.636405, 'end_time': 509.44814, 'reward': 0}, {'sequence_number': 5, 'actor_scenicAction': 'sharing_sadness', 'robot_reaction': 'happy_person', 'start_time': 509.44814, 'end_time': 538.933394, 'reward': -1}, {'sequence_number': 6, 'actor_scenicAction': 'disappointment', 'robot_reaction': 'disappointment', 'start_time': 538.933394, 'end_time': 554.604203, 'reward': 0}, {'sequence_number': 7, 'actor_scenicAction': 'happy_person', 'robot_reaction': 'happy_person', 'start_time': 554.604203, 'end_time': 583.823471, 'reward': 0}, {'sequence_number': 8, 'actor_scenicAction': 'sharing_fear', 'robot_reaction': 'happy_person', 'start_time': 583.823471, 'end_time': 604.80795, 'reward': -2}, {'sequence_number': 9, 'actor_scenicAction': 'intimidate', 'robot_reaction': 'running_away', 'start_time': 604.80795, 'end_time': 612.336188, 'reward': 4}, {'sequence_number': 10, 'actor_scenicAction': 'happy_person', 'robot_reaction': 'disappointment', 'start_time': 612.336188, 'end_time': 624.820877, 'reward': 0}, {'sequence_number': 11, 'actor_scenicAction': 'happy_person', 'robot_reaction': 'surprise', 'start_time': 624.820877, 'end_time': 635.975821, 'reward': 2}, {'sequence_number': 12, 'actor_scenicAction': 'happy_person', 'robot_reaction': 'sharing_fear', 'start_time': 635.975821, 'end_time': 650.852183, 'reward': 0}, {'sequence_number': 13, 'actor_scenicAction': 'sharing_fear', 'robot_reaction': 'sharing_sadness', 'start_time': 650.852183, 'end_time': 657.226082, 'reward': 1}, {'sequence_number': 14, 'actor_scenicAction': 'surprise', 'robot_reaction': 'sharing_fear', 'start_time': 657.226082, 'end_time': 675, 'reward': -5}]\n",
      "92\n",
      "65\n"
     ]
    }
   ],
   "source": [
    "print(video3_scenes)\n",
    "print(likes_amount3)\n",
    "print(dislikes_amount3)"
   ]
  },
  {
   "cell_type": "code",
   "execution_count": 15,
   "metadata": {},
   "outputs": [],
   "source": [
    "likes_amount4 = 0\n",
    "dislikes_amount4 = 0\n",
    "for  vote in impro4_votes:\n",
    "    likes_amount4 += len(vote['like'])\n",
    "    dislikes_amount4 += len(vote['dislike'])\n",
    "    for like_time in vote['like']:\n",
    "        for scene in video4_scenes:\n",
    "            if scene['start_time']<=like_time and like_time<scene['end_time']:\n",
    "                scene['reward'] += 1\n",
    "                break\n",
    "    for dislike_time in vote['dislike']:\n",
    "        for scene in video4_scenes:\n",
    "            if scene['start_time']<=dislike_time and dislike_time<scene['end_time']:\n",
    "                scene['reward'] -= 1\n",
    "                break"
   ]
  },
  {
   "cell_type": "code",
   "execution_count": 16,
   "metadata": {},
   "outputs": [
    {
     "name": "stdout",
     "output_type": "stream",
     "text": [
      "[{'sequence_number': 0, 'actor_scenicAction': 'sharing_sadness', 'robot_reaction': 'disappointment', 'start_time': 0, 'end_time': 17.427426, 'reward': -1}, {'sequence_number': 1, 'actor_scenicAction': 'sharing_sadness', 'robot_reaction': 'attack', 'start_time': 17.427426, 'end_time': 29.911549, 'reward': 0}, {'sequence_number': 2, 'actor_scenicAction': 'sharing_sadness', 'robot_reaction': 'intimidate', 'start_time': 29.911549, 'end_time': 38.411659, 'reward': 2}, {'sequence_number': 3, 'actor_scenicAction': 'happy_person', 'robot_reaction': 'disbelief', 'start_time': 38.411659, 'end_time': 51.426661, 'reward': 0}, {'sequence_number': 4, 'actor_scenicAction': 'happy_person', 'robot_reaction': 'surprise', 'start_time': 51.426661, 'end_time': 59.395389, 'reward': 4}, {'sequence_number': 5, 'actor_scenicAction': 'surprise', 'robot_reaction': 'disappointment', 'start_time': 59.395389, 'end_time': 75.865139, 'reward': -6}, {'sequence_number': 6, 'actor_scenicAction': 'sharing_sadness', 'robot_reaction': 'scolding', 'start_time': 75.865139, 'end_time': 94.989438, 'reward': 2}, {'sequence_number': 7, 'actor_scenicAction': 'astonishment', 'robot_reaction': 'sharing_sadness', 'start_time': 94.989438, 'end_time': 105.881418, 'reward': -3}, {'sequence_number': 8, 'actor_scenicAction': 'sharing_fear', 'robot_reaction': 'sharing_fear', 'start_time': 105.881418, 'end_time': 126.068417, 'reward': 2}, {'sequence_number': 9, 'actor_scenicAction': 'intimidate', 'robot_reaction': 'disbelief', 'start_time': 126.068417, 'end_time': 142.536514, 'reward': 2}, {'sequence_number': 10, 'actor_scenicAction': 'sharing_sadness', 'robot_reaction': 'satisfaction', 'start_time': 142.536514, 'end_time': 155.286454, 'reward': -1}, {'sequence_number': 11, 'actor_scenicAction': 'surprise', 'robot_reaction': 'astonishment', 'start_time': 155.286454, 'end_time': 163.520697, 'reward': 0}, {'sequence_number': 12, 'actor_scenicAction': 'sharing_sadness', 'robot_reaction': 'sharing_sadness', 'start_time': 163.520697, 'end_time': 169.63208, 'reward': 0}, {'sequence_number': 13, 'actor_scenicAction': 'intimidate', 'robot_reaction': 'sharing_happiness', 'start_time': 169.63208, 'end_time': 186.099099, 'reward': 1}, {'sequence_number': 14, 'actor_scenicAction': 'sharing_happiness', 'robot_reaction': 'scolding', 'start_time': 186.099099, 'end_time': 201.239478, 'reward': -1}, {'sequence_number': 0, 'actor_scenicAction': 'sharing_sadness', 'robot_reaction': 'sharing_happiness', 'start_time': 201.239478, 'end_time': 217.444123, 'reward': 2}, {'sequence_number': 1, 'actor_scenicAction': 'disappointment', 'robot_reaction': 'satisfaction', 'start_time': 217.444123, 'end_time': 230.458277, 'reward': 5}, {'sequence_number': 2, 'actor_scenicAction': 'sharing_sadness', 'robot_reaction': 'intimidate', 'start_time': 230.458277, 'end_time': 238.427879, 'reward': -1}, {'sequence_number': 3, 'actor_scenicAction': 'intimidate', 'robot_reaction': 'satisfaction', 'start_time': 238.427879, 'end_time': 250.379978, 'reward': 3}, {'sequence_number': 4, 'actor_scenicAction': 'disappointment', 'robot_reaction': 'grudge', 'start_time': 250.379978, 'end_time': 262.599479, 'reward': 3}, {'sequence_number': 5, 'actor_scenicAction': 'disappointment', 'robot_reaction': 'sharing_fear', 'start_time': 262.599479, 'end_time': 282.520452, 'reward': 3}, {'sequence_number': 6, 'actor_scenicAction': 'sharing_fear', 'robot_reaction': 'surprise', 'start_time': 282.520452, 'end_time': 290.225506, 'reward': 3}, {'sequence_number': 7, 'actor_scenicAction': 'sharing_fear', 'robot_reaction': 'surprise', 'start_time': 290.225506, 'end_time': 297.662911, 'reward': 0}, {'sequence_number': 8, 'actor_scenicAction': 'sharing_fear', 'robot_reaction': 'sharing_fear', 'start_time': 297.662911, 'end_time': 313.599274, 'reward': 2}, {'sequence_number': 9, 'actor_scenicAction': 'sharing_sadness', 'robot_reaction': 'intimidate', 'start_time': 313.599274, 'end_time': 321.036736, 'reward': 0}, {'sequence_number': 10, 'actor_scenicAction': 'satisfaction', 'robot_reaction': 'sharing_happiness', 'start_time': 321.036736, 'end_time': 336.443131, 'reward': 2}, {'sequence_number': 11, 'actor_scenicAction': 'happy_person', 'robot_reaction': 'attack', 'start_time': 336.443131, 'end_time': 344.677671, 'reward': 2}, {'sequence_number': 12, 'actor_scenicAction': 'intimidate', 'robot_reaction': 'sharing_sadness', 'start_time': 344.677671, 'end_time': 350.255731, 'reward': 1}, {'sequence_number': 13, 'actor_scenicAction': 'intimidate', 'robot_reaction': 'sharing_fear', 'start_time': 350.255731, 'end_time': 365.927672, 'reward': 0}, {'sequence_number': 14, 'actor_scenicAction': 'sharing_fear', 'robot_reaction': 'sharing_fear', 'start_time': 365.927672, 'end_time': 381.865427, 'reward': 5}, {'sequence_number': 1, 'actor_scenicAction': 'intimidate', 'robot_reaction': 'disappointment', 'start_time': 381.865427, 'end_time': 402.317313, 'reward': -1}, {'sequence_number': 8, 'actor_scenicAction': 'intimidate', 'robot_reaction': 'disbelief', 'start_time': 402.317313, 'end_time': 416.661749, 'reward': 0}, {'sequence_number': 9, 'actor_scenicAction': 'sharing_happiness', 'robot_reaction': 'happy_person', 'start_time': 416.661749, 'end_time': 431.271233, 'reward': 3}, {'sequence_number': 10, 'actor_scenicAction': 'astonishment', 'robot_reaction': 'grudge', 'start_time': 431.271233, 'end_time': 442.957746, 'reward': 3}, {'sequence_number': 11, 'actor_scenicAction': 'sharing_sadness', 'robot_reaction': 'sharing_sadness', 'start_time': 442.957746, 'end_time': 457.567552, 'reward': 1}, {'sequence_number': 12, 'actor_scenicAction': 'sharing_sadness', 'robot_reaction': 'disappointment', 'start_time': 457.567552, 'end_time': 473.23957, 'reward': -3}, {'sequence_number': 13, 'actor_scenicAction': 'happy_person', 'robot_reaction': 'astonishment', 'start_time': 473.23957, 'end_time': 490.771193, 'reward': 2}, {'sequence_number': 8, 'actor_scenicAction': 'sharing_happiness', 'robot_reaction': 'happy_person', 'start_time': 490.771193, 'end_time': 506.708239, 'reward': 3}, {'sequence_number': 0, 'actor_scenicAction': 'sharing_sadness', 'robot_reaction': 'surprise', 'start_time': 506.708239, 'end_time': 514.411609, 'reward': -2}, {'sequence_number': 1, 'actor_scenicAction': 'disappointment', 'robot_reaction': 'grudge', 'start_time': 514.411609, 'end_time': 523.178059, 'reward': 0}, {'sequence_number': 2, 'actor_scenicAction': 'sharing_sadness', 'robot_reaction': 'sharing_sadness', 'start_time': 523.178059, 'end_time': 531.145375, 'reward': 0}, {'sequence_number': 3, 'actor_scenicAction': 'sharing_sadness', 'robot_reaction': 'grudge', 'start_time': 531.145375, 'end_time': 546.553155, 'reward': -2}, {'sequence_number': 6, 'actor_scenicAction': 'surprise', 'robot_reaction': 'surprise', 'start_time': 546.553155, 'end_time': 554.520413, 'reward': 2}, {'sequence_number': 7, 'actor_scenicAction': 'sharing_sadness', 'robot_reaction': 'sharing_happiness', 'start_time': 554.520413, 'end_time': 571.256848, 'reward': 3}, {'sequence_number': 0, 'actor_scenicAction': 'sharing_sadness', 'robot_reaction': 'attack', 'start_time': 571.256848, 'end_time': 581.879752, 'reward': -4}, {'sequence_number': 1, 'actor_scenicAction': 'happy_person', 'robot_reaction': 'astonishment', 'start_time': 581.879752, 'end_time': 597.552485, 'reward': -6}, {'sequence_number': 2, 'actor_scenicAction': 'happy_person', 'robot_reaction': 'satisfaction', 'start_time': 597.552485, 'end_time': 608, 'reward': 0}]\n",
      "112\n",
      "82\n"
     ]
    }
   ],
   "source": [
    "print(video4_scenes)\n",
    "print(likes_amount4)\n",
    "print(dislikes_amount4)"
   ]
  },
  {
   "cell_type": "code",
   "execution_count": 17,
   "metadata": {},
   "outputs": [],
   "source": [
    "with open('video1_scenes.json', 'w') as v1:\n",
    "    json.dump(video1_scenes,v1)"
   ]
  },
  {
   "cell_type": "code",
   "execution_count": 18,
   "metadata": {},
   "outputs": [],
   "source": [
    "with open('video2_scenes.json', 'w') as v2:\n",
    "    json.dump(video2_scenes,v2)"
   ]
  },
  {
   "cell_type": "code",
   "execution_count": 19,
   "metadata": {},
   "outputs": [],
   "source": [
    "with open('video3_scenes.json', 'w') as v3:\n",
    "    json.dump(video3_scenes,v3)"
   ]
  },
  {
   "cell_type": "code",
   "execution_count": 20,
   "metadata": {},
   "outputs": [],
   "source": [
    "with open('video4_scenes.json', 'w') as v4:\n",
    "    json.dump(video4_scenes,v4)"
   ]
  }
 ],
 "metadata": {
  "kernelspec": {
   "display_name": "Python 3",
   "language": "python",
   "name": "python3"
  },
  "language_info": {
   "codemirror_mode": {
    "name": "ipython",
    "version": 3
   },
   "file_extension": ".py",
   "mimetype": "text/x-python",
   "name": "python",
   "nbconvert_exporter": "python",
   "pygments_lexer": "ipython3",
   "version": "3.10.11"
  },
  "orig_nbformat": 4
 },
 "nbformat": 4,
 "nbformat_minor": 2
}
