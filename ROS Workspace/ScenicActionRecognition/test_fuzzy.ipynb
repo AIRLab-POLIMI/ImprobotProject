{
 "cells": [
  {
   "cell_type": "code",
   "execution_count": 1,
   "metadata": {},
   "outputs": [],
   "source": [
    "import numpy as np\n",
    "%matplotlib inline"
   ]
  },
  {
   "cell_type": "code",
   "execution_count": 2,
   "metadata": {},
   "outputs": [],
   "source": [
    "from foxy.src.action_classifier.action_classifier.FuzzySystem import FuzzySystem, ACTIONS"
   ]
  },
  {
   "cell_type": "code",
   "execution_count": 3,
   "metadata": {},
   "outputs": [],
   "source": [
    " def roundTraditional(val,digits=1):\n",
    "        return round(val+10**(-len(str(val))-1), digits)"
   ]
  },
  {
   "cell_type": "code",
   "execution_count": 4,
   "metadata": {},
   "outputs": [
    {
     "name": "stderr",
     "output_type": "stream",
     "text": [
      "/Users/lorenzo/miniforge3/envs/fuzzy/lib/python3.9/site-packages/skfuzzy/control/fuzzyvariable.py:122: UserWarning: Matplotlib is currently using module://matplotlib_inline.backend_inline, which is a non-GUI backend, so cannot show the figure.\n",
      "  fig.show()\n"
     ]
    },
    {
     "data": {
      "image/png": "[encoded data removed]",
      "text/plain": [
       "<Figure size 432x288 with 1 Axes>"
      ]
     },
     "metadata": {
      "needs_background": "light"
     },
     "output_type": "display_data"
    }
   ],
   "source": [
    "fs = FuzzySystem()"
   ]
  },
  {
   "cell_type": "code",
   "execution_count": 5,
   "metadata": {},
   "outputs": [],
   "source": [
    "rules = fs.get_rules()"
   ]
  },
  {
   "cell_type": "code",
   "execution_count": 6,
   "metadata": {},
   "outputs": [],
   "source": [
    "rules_txt = [f\"IF {r.antecedent} THEN {str(r.consequent)[1:-1]}\" for r in rules]"
   ]
  },
  {
   "cell_type": "code",
   "execution_count": 7,
   "metadata": {},
   "outputs": [],
   "source": [
    "with open(\"/Users/lorenzo/Library/CloudStorage/OneDrive-PolitecnicodiMilano/LorenzoFarinelli/TestoTesi/Tesi/chapters/appendix/rules_dump.txt\", \"w\") as f:\n",
    "    for r in rules_txt:\n",
    "        f.write(r + \"\\n\")"
   ]
  },
  {
   "cell_type": "code",
   "execution_count": 8,
   "metadata": {},
   "outputs": [],
   "source": [
    "anger = np.array([1, 0, 0, 0, 0, 0, 0])\n",
    "happy = np.array([0, 0, 0, 1, 0, 0, 0])"
   ]
  },
  {
   "cell_type": "code",
   "execution_count": 9,
   "metadata": {},
   "outputs": [],
   "source": [
    "mov = np.arange(-0.2, 0.21, 0.05)"
   ]
  },
  {
   "cell_type": "code",
   "execution_count": 10,
   "metadata": {},
   "outputs": [],
   "source": [
    "z_int = 0\n",
    "z_neu = 1\n",
    "z_not = 2"
   ]
  },
  {
   "cell_type": "code",
   "execution_count": 11,
   "metadata": {},
   "outputs": [],
   "source": [
    "def test_emotion(emotion_id, emotion):\n",
    "    print(\"\\n\"+emotion_id)\n",
    "    for m in mov:\n",
    "        for z in range(0, 3):\n",
    "            try:\n",
    "                label = fs.get_label(\n",
    "                    int(roundTraditional(\n",
    "                        fs.classify(z, m, emotion)))\n",
    "                )\n",
    "            except:\n",
    "                label = \"FAIL\"\n",
    "            print(f\"M: {m}, z: {z}, l: {label}\")"
   ]
  },
  {
   "cell_type": "code",
   "execution_count": 12,
   "metadata": {},
   "outputs": [
    {
     "name": "stdout",
     "output_type": "stream",
     "text": [
      "\n",
      "anger\n",
      "M: -0.2, z: 0, l: attack\n",
      "M: -0.2, z: 1, l: attack\n",
      "M: -0.2, z: 2, l: grudge\n",
      "M: -0.15000000000000002, z: 0, l: attack\n",
      "M: -0.15000000000000002, z: 1, l: attack\n",
      "M: -0.15000000000000002, z: 2, l: grudge\n",
      "M: -0.10000000000000003, z: 0, l: intimidation\n",
      "M: -0.10000000000000003, z: 1, l: intimidation\n",
      "M: -0.10000000000000003, z: 2, l: grudge\n",
      "M: -0.050000000000000044, z: 0, l: intimidation\n",
      "M: -0.050000000000000044, z: 1, l: intimidation\n",
      "M: -0.050000000000000044, z: 2, l: grudge\n",
      "M: -5.551115123125783e-17, z: 0, l: intimidation\n",
      "M: -5.551115123125783e-17, z: 1, l: intimidation\n",
      "M: -5.551115123125783e-17, z: 2, l: scolding\n",
      "M: 0.04999999999999993, z: 0, l: FAIL\n",
      "M: 0.04999999999999993, z: 1, l: grudge\n",
      "M: 0.04999999999999993, z: 2, l: grudge\n",
      "M: 0.09999999999999992, z: 0, l: FAIL\n",
      "M: 0.09999999999999992, z: 1, l: grudge\n",
      "M: 0.09999999999999992, z: 2, l: grudge\n",
      "M: 0.1499999999999999, z: 0, l: FAIL\n",
      "M: 0.1499999999999999, z: 1, l: grudge\n",
      "M: 0.1499999999999999, z: 2, l: grudge\n",
      "M: 0.1999999999999999, z: 0, l: FAIL\n",
      "M: 0.1999999999999999, z: 1, l: grudge\n",
      "M: 0.1999999999999999, z: 2, l: grudge\n"
     ]
    }
   ],
   "source": [
    "test_emotion(\"anger\", anger)"
   ]
  },
  {
   "cell_type": "code",
   "execution_count": 13,
   "metadata": {},
   "outputs": [
    {
     "name": "stdout",
     "output_type": "stream",
     "text": [
      "\n",
      "happy\n",
      "M: -0.2, z: 0, l: share_joy\n",
      "M: -0.2, z: 1, l: greet\n",
      "M: -0.2, z: 2, l: happiness_person\n",
      "M: -0.15000000000000002, z: 0, l: share_joy\n",
      "M: -0.15000000000000002, z: 1, l: greet\n",
      "M: -0.15000000000000002, z: 2, l: happiness_person\n",
      "M: -0.10000000000000003, z: 0, l: share_joy\n",
      "M: -0.10000000000000003, z: 1, l: greet\n",
      "M: -0.10000000000000003, z: 2, l: happiness_person\n",
      "M: -0.050000000000000044, z: 0, l: share_joy\n",
      "M: -0.050000000000000044, z: 1, l: greet\n",
      "M: -0.050000000000000044, z: 2, l: happiness_person\n",
      "M: -5.551115123125783e-17, z: 0, l: share_joy\n",
      "M: -5.551115123125783e-17, z: 1, l: greet\n",
      "M: -5.551115123125783e-17, z: 2, l: happiness_person\n",
      "M: 0.04999999999999993, z: 0, l: happiness_person\n",
      "M: 0.04999999999999993, z: 1, l: greet\n",
      "M: 0.04999999999999993, z: 2, l: greet\n",
      "M: 0.09999999999999992, z: 0, l: happiness_person\n",
      "M: 0.09999999999999992, z: 1, l: greet\n",
      "M: 0.09999999999999992, z: 2, l: greet\n",
      "M: 0.1499999999999999, z: 0, l: happiness_person\n",
      "M: 0.1499999999999999, z: 1, l: greet\n",
      "M: 0.1499999999999999, z: 2, l: greet\n",
      "M: 0.1999999999999999, z: 0, l: happiness_person\n",
      "M: 0.1999999999999999, z: 1, l: greet\n",
      "M: 0.1999999999999999, z: 2, l: greet\n"
     ]
    }
   ],
   "source": [
    "test_emotion(\"happy\", happy)"
   ]
  },
  {
   "cell_type": "code",
   "execution_count": 14,
   "metadata": {},
   "outputs": [
    {
     "name": "stdout",
     "output_type": "stream",
     "text": [
      "\n",
      "disgust\n",
      "M: -0.2, z: 0, l: perplexity\n",
      "M: -0.2, z: 1, l: perplexity\n",
      "M: -0.2, z: 2, l: perplexity\n",
      "M: -0.15000000000000002, z: 0, l: perplexity\n",
      "M: -0.15000000000000002, z: 1, l: perplexity\n",
      "M: -0.15000000000000002, z: 2, l: perplexity\n",
      "M: -0.10000000000000003, z: 0, l: perplexity\n",
      "M: -0.10000000000000003, z: 1, l: perplexity\n",
      "M: -0.10000000000000003, z: 2, l: perplexity\n",
      "M: -0.050000000000000044, z: 0, l: perplexity\n",
      "M: -0.050000000000000044, z: 1, l: perplexity\n",
      "M: -0.050000000000000044, z: 2, l: perplexity\n",
      "M: -5.551115123125783e-17, z: 0, l: hesitancy\n",
      "M: -5.551115123125783e-17, z: 1, l: hesitancy\n",
      "M: -5.551115123125783e-17, z: 2, l: hesitancy\n",
      "M: 0.04999999999999993, z: 0, l: refuse\n",
      "M: 0.04999999999999993, z: 1, l: refuse\n",
      "M: 0.04999999999999993, z: 2, l: refuse\n",
      "M: 0.09999999999999992, z: 0, l: refuse\n",
      "M: 0.09999999999999992, z: 1, l: refuse\n",
      "M: 0.09999999999999992, z: 2, l: refuse\n",
      "M: 0.1499999999999999, z: 0, l: refuse\n",
      "M: 0.1499999999999999, z: 1, l: refuse\n",
      "M: 0.1499999999999999, z: 2, l: refuse\n",
      "M: 0.1999999999999999, z: 0, l: refuse\n",
      "M: 0.1999999999999999, z: 1, l: refuse\n",
      "M: 0.1999999999999999, z: 2, l: refuse\n",
      "\n",
      "fear\n",
      "M: -0.2, z: 0, l: share_fear\n",
      "M: -0.2, z: 1, l: share_fear\n",
      "M: -0.2, z: 2, l: hesitancy\n",
      "M: -0.15000000000000002, z: 0, l: share_fear\n",
      "M: -0.15000000000000002, z: 1, l: share_fear\n",
      "M: -0.15000000000000002, z: 2, l: hesitancy\n",
      "M: -0.10000000000000003, z: 0, l: share_fear\n",
      "M: -0.10000000000000003, z: 1, l: share_fear\n",
      "M: -0.10000000000000003, z: 2, l: hesitancy\n",
      "M: -0.050000000000000044, z: 0, l: share_fear\n",
      "M: -0.050000000000000044, z: 1, l: caution\n",
      "M: -0.050000000000000044, z: 2, l: hesitancy\n",
      "M: -5.551115123125783e-17, z: 0, l: share_fear\n",
      "M: -5.551115123125783e-17, z: 1, l: caution\n",
      "M: -5.551115123125783e-17, z: 2, l: hesitancy\n",
      "M: 0.04999999999999993, z: 0, l: hesitancy\n",
      "M: 0.04999999999999993, z: 1, l: escape\n",
      "M: 0.04999999999999993, z: 2, l: escape\n",
      "M: 0.09999999999999992, z: 0, l: caution\n",
      "M: 0.09999999999999992, z: 1, l: escape\n",
      "M: 0.09999999999999992, z: 2, l: escape\n",
      "M: 0.1499999999999999, z: 0, l: caution\n",
      "M: 0.1499999999999999, z: 1, l: escape\n",
      "M: 0.1499999999999999, z: 2, l: escape\n",
      "M: 0.1999999999999999, z: 0, l: caution\n",
      "M: 0.1999999999999999, z: 1, l: escape\n",
      "M: 0.1999999999999999, z: 2, l: escape\n",
      "\n",
      "sadness\n",
      "M: -0.2, z: 0, l: share_sadness\n",
      "M: -0.2, z: 1, l: sad_person\n",
      "M: -0.2, z: 2, l: sad_person\n",
      "M: -0.15000000000000002, z: 0, l: share_sadness\n",
      "M: -0.15000000000000002, z: 1, l: sad_person\n",
      "M: -0.15000000000000002, z: 2, l: sad_person\n",
      "M: -0.10000000000000003, z: 0, l: share_sadness\n",
      "M: -0.10000000000000003, z: 1, l: sad_person\n",
      "M: -0.10000000000000003, z: 2, l: sad_person\n",
      "M: -0.050000000000000044, z: 0, l: share_sadness\n",
      "M: -0.050000000000000044, z: 1, l: sad_person\n",
      "M: -0.050000000000000044, z: 2, l: sad_person\n",
      "M: -5.551115123125783e-17, z: 0, l: share_sadness\n",
      "M: -5.551115123125783e-17, z: 1, l: sad_person\n",
      "M: -5.551115123125783e-17, z: 2, l: sad_person\n",
      "M: 0.04999999999999993, z: 0, l: disappointment\n",
      "M: 0.04999999999999993, z: 1, l: disappointment\n",
      "M: 0.04999999999999993, z: 2, l: disappointment\n",
      "M: 0.09999999999999992, z: 0, l: disappointment\n",
      "M: 0.09999999999999992, z: 1, l: disappointment\n",
      "M: 0.09999999999999992, z: 2, l: disappointment\n",
      "M: 0.1499999999999999, z: 0, l: disappointment\n",
      "M: 0.1499999999999999, z: 1, l: disappointment\n",
      "M: 0.1499999999999999, z: 2, l: disappointment\n",
      "M: 0.1999999999999999, z: 0, l: disappointment\n",
      "M: 0.1999999999999999, z: 1, l: disappointment\n",
      "M: 0.1999999999999999, z: 2, l: disappointment\n",
      "\n",
      "surprise\n",
      "M: -0.2, z: 0, l: share_surprise\n",
      "M: -0.2, z: 1, l: share_surprise\n",
      "M: -0.2, z: 2, l: shock\n",
      "M: -0.15000000000000002, z: 0, l: share_surprise\n",
      "M: -0.15000000000000002, z: 1, l: share_surprise\n",
      "M: -0.15000000000000002, z: 2, l: shock\n",
      "M: -0.10000000000000003, z: 0, l: share_surprise\n",
      "M: -0.10000000000000003, z: 1, l: share_surprise\n",
      "M: -0.10000000000000003, z: 2, l: astonishment\n",
      "M: -0.050000000000000044, z: 0, l: share_surprise\n",
      "M: -0.050000000000000044, z: 1, l: share_surprise\n",
      "M: -0.050000000000000044, z: 2, l: astonishment\n",
      "M: -5.551115123125783e-17, z: 0, l: share_surprise\n",
      "M: -5.551115123125783e-17, z: 1, l: share_surprise\n",
      "M: -5.551115123125783e-17, z: 2, l: astonishment\n",
      "M: 0.04999999999999993, z: 0, l: astonishment\n",
      "M: 0.04999999999999993, z: 1, l: astonishment\n",
      "M: 0.04999999999999993, z: 2, l: disbelief\n",
      "M: 0.09999999999999992, z: 0, l: astonishment\n",
      "M: 0.09999999999999992, z: 1, l: astonishment\n",
      "M: 0.09999999999999992, z: 2, l: disbelief\n",
      "M: 0.1499999999999999, z: 0, l: astonishment\n",
      "M: 0.1499999999999999, z: 1, l: astonishment\n",
      "M: 0.1499999999999999, z: 2, l: disbelief\n",
      "M: 0.1999999999999999, z: 0, l: astonishment\n",
      "M: 0.1999999999999999, z: 1, l: astonishment\n",
      "M: 0.1999999999999999, z: 2, l: disbelief\n",
      "\n",
      "neutral\n",
      "M: -0.2, z: 0, l: none\n",
      "M: -0.2, z: 1, l: none\n",
      "M: -0.2, z: 2, l: none\n",
      "M: -0.15000000000000002, z: 0, l: none\n",
      "M: -0.15000000000000002, z: 1, l: none\n",
      "M: -0.15000000000000002, z: 2, l: none\n",
      "M: -0.10000000000000003, z: 0, l: none\n",
      "M: -0.10000000000000003, z: 1, l: none\n",
      "M: -0.10000000000000003, z: 2, l: none\n",
      "M: -0.050000000000000044, z: 0, l: none\n",
      "M: -0.050000000000000044, z: 1, l: none\n",
      "M: -0.050000000000000044, z: 2, l: none\n",
      "M: -5.551115123125783e-17, z: 0, l: none\n",
      "M: -5.551115123125783e-17, z: 1, l: none\n",
      "M: -5.551115123125783e-17, z: 2, l: none\n",
      "M: 0.04999999999999993, z: 0, l: none\n",
      "M: 0.04999999999999993, z: 1, l: none\n",
      "M: 0.04999999999999993, z: 2, l: none\n",
      "M: 0.09999999999999992, z: 0, l: none\n",
      "M: 0.09999999999999992, z: 1, l: none\n",
      "M: 0.09999999999999992, z: 2, l: none\n",
      "M: 0.1499999999999999, z: 0, l: none\n",
      "M: 0.1499999999999999, z: 1, l: none\n",
      "M: 0.1499999999999999, z: 2, l: none\n",
      "M: 0.1999999999999999, z: 0, l: none\n",
      "M: 0.1999999999999999, z: 1, l: none\n",
      "M: 0.1999999999999999, z: 2, l: none\n"
     ]
    }
   ],
   "source": [
    "test_emotion(\"disgust\", np.array([0, 1, 0, 0, 0, 0, 0]))\n",
    "test_emotion(\"fear\", np.array([0, 0, 1, 0, 0, 0, 0]))\n",
    "test_emotion(\"sadness\", np.array([0, 0, 0, 0, 1, 0, 0]))\n",
    "test_emotion(\"surprise\", np.array([0, 0, 0, 0, 0, 1, 0]))\n",
    "test_emotion(\"neutral\", np.array([0, 0, 0, 0, 0, 0, 1]))"
   ]
  }
 ],
 "metadata": {
  "interpreter": {
   "hash": "6a0f7894c7688e931aac37443ad278f10e603c32bbffbb7c92cb77091f380eb7"
  },
  "kernelspec": {
   "display_name": "Python 3.9.9 ('fuzzy')",
   "language": "python",
   "name": "python3"
  },
  "language_info": {
   "codemirror_mode": {
    "name": "ipython",
    "version": 3
   },
   "file_extension": ".py",
   "mimetype": "text/x-python",
   "name": "python",
   "nbconvert_exporter": "python",
   "pygments_lexer": "ipython3",
   "version": "3.9.9"
  },
  "orig_nbformat": 4
 },
 "nbformat": 4,
 "nbformat_minor": 2
}
