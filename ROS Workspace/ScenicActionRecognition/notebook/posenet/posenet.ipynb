{
 "cells": [
  {
   "cell_type": "code",
   "execution_count": 4,
   "metadata": {},
   "outputs": [],
   "source": [
    "from pose_engine import PoseEngine\n",
    "from PIL import Image\n",
    "import cv2\n",
    "import numpy as np\n",
    "from tqdm import tqdm"
   ]
  },
  {
   "cell_type": "code",
   "execution_count": 5,
   "metadata": {},
   "outputs": [],
   "source": [
    "FILE = \"io.mov\""
   ]
  },
  {
   "cell_type": "code",
   "execution_count": 6,
   "metadata": {},
   "outputs": [
    {
     "name": "stderr",
     "output_type": "stream",
     "text": [
      "100%|██████████| 100/100 [00:00<00:00, 257.21it/s]\n"
     ]
    }
   ],
   "source": [
    "cap = cv2.VideoCapture(FILE)\n",
    "i = 0\n",
    "frames = []\n",
    "for _ in tqdm(range(100)):\n",
    "  ret, frame = cap.read()\n",
    "  frames.append(cv2.cvtColor(frame,cv2.COLOR_BGR2RGB))"
   ]
  },
  {
   "cell_type": "code",
   "execution_count": 7,
   "metadata": {},
   "outputs": [
    {
     "ename": "OSError",
     "evalue": "posenet_lib/x86_64/posenet_decoder.so: cannot open shared object file: No such file or directory",
     "output_type": "error",
     "traceback": [
      "\u001b[0;31m---------------------------------------------------------------------------\u001b[0m",
      "\u001b[0;31mOSError\u001b[0m                                   Traceback (most recent call last)",
      "\u001b[1;32m/home/airlab/Documents/improbot/notebook/posenet/posenet.ipynb Cell 4'\u001b[0m in \u001b[0;36m<cell line: 1>\u001b[0;34m()\u001b[0m\n\u001b[0;32m----> <a href='vscode-notebook-cell://ssh-remote%2B192.168.1.5/home/airlab/Documents/improbot/notebook/posenet/posenet.ipynb#ch0000003vscode-remote?line=0'>1</a>\u001b[0m engine \u001b[39m=\u001b[39m PoseEngine(\n\u001b[1;32m      <a href='vscode-notebook-cell://ssh-remote%2B192.168.1.5/home/airlab/Documents/improbot/notebook/posenet/posenet.ipynb#ch0000003vscode-remote?line=1'>2</a>\u001b[0m     \u001b[39m'\u001b[39;49m\u001b[39mmodels/mobilenet/posenet_mobilenet_v1_075_481_641_quant_decoder_edgetpu.tflite\u001b[39;49m\u001b[39m'\u001b[39;49m)\n\u001b[1;32m      <a href='vscode-notebook-cell://ssh-remote%2B192.168.1.5/home/airlab/Documents/improbot/notebook/posenet/posenet.ipynb#ch0000003vscode-remote?line=2'>3</a>\u001b[0m poses, inference_time \u001b[39m=\u001b[39m engine\u001b[39m.\u001b[39mDetectPosesInImage(frames[\u001b[39m0\u001b[39m])\n",
      "File \u001b[0;32m~/Documents/improbot/notebook/posenet/pose_engine.py:80\u001b[0m, in \u001b[0;36mPoseEngine.__init__\u001b[0;34m(self, model_path, mirror)\u001b[0m\n\u001b[1;32m     <a href='file:///~/Documents/improbot/notebook/posenet/pose_engine.py?line=69'>70</a>\u001b[0m \u001b[39m\"\"\"Creates a PoseEngine with given model.\u001b[39;00m\n\u001b[1;32m     <a href='file:///~/Documents/improbot/notebook/posenet/pose_engine.py?line=70'>71</a>\u001b[0m \n\u001b[1;32m     <a href='file:///~/Documents/improbot/notebook/posenet/pose_engine.py?line=71'>72</a>\u001b[0m \u001b[39mArgs:\u001b[39;00m\n\u001b[0;32m   (...)\u001b[0m\n\u001b[1;32m     <a href='file:///~/Documents/improbot/notebook/posenet/pose_engine.py?line=76'>77</a>\u001b[0m \u001b[39m  ValueError: An error occurred when model output is invalid.\u001b[39;00m\n\u001b[1;32m     <a href='file:///~/Documents/improbot/notebook/posenet/pose_engine.py?line=77'>78</a>\u001b[0m \u001b[39m\"\"\"\u001b[39;00m\n\u001b[1;32m     <a href='file:///~/Documents/improbot/notebook/posenet/pose_engine.py?line=78'>79</a>\u001b[0m edgetpu_delegate \u001b[39m=\u001b[39m load_delegate(EDGETPU_SHARED_LIB)\n\u001b[0;32m---> <a href='file:///~/Documents/improbot/notebook/posenet/pose_engine.py?line=79'>80</a>\u001b[0m posenet_decoder_delegate \u001b[39m=\u001b[39m load_delegate(POSENET_SHARED_LIB)\n\u001b[1;32m     <a href='file:///~/Documents/improbot/notebook/posenet/pose_engine.py?line=80'>81</a>\u001b[0m \u001b[39mself\u001b[39m\u001b[39m.\u001b[39m_interpreter \u001b[39m=\u001b[39m Interpreter(\n\u001b[1;32m     <a href='file:///~/Documents/improbot/notebook/posenet/pose_engine.py?line=81'>82</a>\u001b[0m     model_path, experimental_delegates\u001b[39m=\u001b[39m[edgetpu_delegate, posenet_decoder_delegate])\n\u001b[1;32m     <a href='file:///~/Documents/improbot/notebook/posenet/pose_engine.py?line=82'>83</a>\u001b[0m \u001b[39mself\u001b[39m\u001b[39m.\u001b[39m_interpreter\u001b[39m.\u001b[39mallocate_tensors()\n",
      "File \u001b[0;32m/usr/lib/python3/dist-packages/tflite_runtime/interpreter.py:160\u001b[0m, in \u001b[0;36mload_delegate\u001b[0;34m(library, options)\u001b[0m\n\u001b[1;32m    <a href='file:///usr/lib/python3/dist-packages/tflite_runtime/interpreter.py?line=141'>142</a>\u001b[0m \u001b[39m\"\"\"Returns loaded Delegate object.\u001b[39;00m\n\u001b[1;32m    <a href='file:///usr/lib/python3/dist-packages/tflite_runtime/interpreter.py?line=142'>143</a>\u001b[0m \n\u001b[1;32m    <a href='file:///usr/lib/python3/dist-packages/tflite_runtime/interpreter.py?line=143'>144</a>\u001b[0m \u001b[39mArgs:\u001b[39;00m\n\u001b[0;32m   (...)\u001b[0m\n\u001b[1;32m    <a href='file:///usr/lib/python3/dist-packages/tflite_runtime/interpreter.py?line=156'>157</a>\u001b[0m \u001b[39m  RuntimeError: If delegate loading is used on unsupported platform.\u001b[39;00m\n\u001b[1;32m    <a href='file:///usr/lib/python3/dist-packages/tflite_runtime/interpreter.py?line=157'>158</a>\u001b[0m \u001b[39m\"\"\"\u001b[39;00m\n\u001b[1;32m    <a href='file:///usr/lib/python3/dist-packages/tflite_runtime/interpreter.py?line=158'>159</a>\u001b[0m \u001b[39mtry\u001b[39;00m:\n\u001b[0;32m--> <a href='file:///usr/lib/python3/dist-packages/tflite_runtime/interpreter.py?line=159'>160</a>\u001b[0m   delegate \u001b[39m=\u001b[39m Delegate(library, options)\n\u001b[1;32m    <a href='file:///usr/lib/python3/dist-packages/tflite_runtime/interpreter.py?line=160'>161</a>\u001b[0m \u001b[39mexcept\u001b[39;00m \u001b[39mValueError\u001b[39;00m \u001b[39mas\u001b[39;00m e:\n\u001b[1;32m    <a href='file:///usr/lib/python3/dist-packages/tflite_runtime/interpreter.py?line=161'>162</a>\u001b[0m   \u001b[39mraise\u001b[39;00m \u001b[39mValueError\u001b[39;00m(\u001b[39m'\u001b[39m\u001b[39mFailed to load delegate from \u001b[39m\u001b[39m{}\u001b[39;00m\u001b[39m\\n\u001b[39;00m\u001b[39m{}\u001b[39;00m\u001b[39m'\u001b[39m\u001b[39m.\u001b[39mformat(\n\u001b[1;32m    <a href='file:///usr/lib/python3/dist-packages/tflite_runtime/interpreter.py?line=162'>163</a>\u001b[0m       library, \u001b[39mstr\u001b[39m(e)))\n",
      "File \u001b[0;32m/usr/lib/python3/dist-packages/tflite_runtime/interpreter.py:89\u001b[0m, in \u001b[0;36mDelegate.__init__\u001b[0;34m(self, library, options)\u001b[0m\n\u001b[1;32m     <a href='file:///usr/lib/python3/dist-packages/tflite_runtime/interpreter.py?line=84'>85</a>\u001b[0m \u001b[39mif\u001b[39;00m platform\u001b[39m.\u001b[39mpython_implementation() \u001b[39m!=\u001b[39m \u001b[39m'\u001b[39m\u001b[39mCPython\u001b[39m\u001b[39m'\u001b[39m:\n\u001b[1;32m     <a href='file:///usr/lib/python3/dist-packages/tflite_runtime/interpreter.py?line=85'>86</a>\u001b[0m   \u001b[39mraise\u001b[39;00m \u001b[39mRuntimeError\u001b[39;00m(\u001b[39m'\u001b[39m\u001b[39mDelegates are currently only supported into CPython\u001b[39m\u001b[39m'\u001b[39m\n\u001b[1;32m     <a href='file:///usr/lib/python3/dist-packages/tflite_runtime/interpreter.py?line=86'>87</a>\u001b[0m                      \u001b[39m'\u001b[39m\u001b[39mdue to missing immediate reference counting.\u001b[39m\u001b[39m'\u001b[39m)\n\u001b[0;32m---> <a href='file:///usr/lib/python3/dist-packages/tflite_runtime/interpreter.py?line=88'>89</a>\u001b[0m \u001b[39mself\u001b[39m\u001b[39m.\u001b[39m_library \u001b[39m=\u001b[39m ctypes\u001b[39m.\u001b[39;49mpydll\u001b[39m.\u001b[39;49mLoadLibrary(library)\n\u001b[1;32m     <a href='file:///usr/lib/python3/dist-packages/tflite_runtime/interpreter.py?line=89'>90</a>\u001b[0m \u001b[39mself\u001b[39m\u001b[39m.\u001b[39m_library\u001b[39m.\u001b[39mtflite_plugin_create_delegate\u001b[39m.\u001b[39margtypes \u001b[39m=\u001b[39m [\n\u001b[1;32m     <a href='file:///usr/lib/python3/dist-packages/tflite_runtime/interpreter.py?line=90'>91</a>\u001b[0m     ctypes\u001b[39m.\u001b[39mPOINTER(ctypes\u001b[39m.\u001b[39mc_char_p),\n\u001b[1;32m     <a href='file:///usr/lib/python3/dist-packages/tflite_runtime/interpreter.py?line=91'>92</a>\u001b[0m     ctypes\u001b[39m.\u001b[39mPOINTER(ctypes\u001b[39m.\u001b[39mc_char_p), ctypes\u001b[39m.\u001b[39mc_int,\n\u001b[1;32m     <a href='file:///usr/lib/python3/dist-packages/tflite_runtime/interpreter.py?line=92'>93</a>\u001b[0m     ctypes\u001b[39m.\u001b[39mCFUNCTYPE(\u001b[39mNone\u001b[39;00m, ctypes\u001b[39m.\u001b[39mc_char_p)\n\u001b[1;32m     <a href='file:///usr/lib/python3/dist-packages/tflite_runtime/interpreter.py?line=93'>94</a>\u001b[0m ]\n\u001b[1;32m     <a href='file:///usr/lib/python3/dist-packages/tflite_runtime/interpreter.py?line=94'>95</a>\u001b[0m \u001b[39mself\u001b[39m\u001b[39m.\u001b[39m_library\u001b[39m.\u001b[39mtflite_plugin_create_delegate\u001b[39m.\u001b[39mrestype \u001b[39m=\u001b[39m ctypes\u001b[39m.\u001b[39mc_void_p\n",
      "File \u001b[0;32m/usr/lib/python3.8/ctypes/__init__.py:451\u001b[0m, in \u001b[0;36mLibraryLoader.LoadLibrary\u001b[0;34m(self, name)\u001b[0m\n\u001b[1;32m    <a href='file:///usr/lib/python3.8/ctypes/__init__.py?line=449'>450</a>\u001b[0m \u001b[39mdef\u001b[39;00m \u001b[39mLoadLibrary\u001b[39m(\u001b[39mself\u001b[39m, name):\n\u001b[0;32m--> <a href='file:///usr/lib/python3.8/ctypes/__init__.py?line=450'>451</a>\u001b[0m     \u001b[39mreturn\u001b[39;00m \u001b[39mself\u001b[39;49m\u001b[39m.\u001b[39;49m_dlltype(name)\n",
      "File \u001b[0;32m/usr/lib/python3.8/ctypes/__init__.py:373\u001b[0m, in \u001b[0;36mCDLL.__init__\u001b[0;34m(self, name, mode, handle, use_errno, use_last_error, winmode)\u001b[0m\n\u001b[1;32m    <a href='file:///usr/lib/python3.8/ctypes/__init__.py?line=369'>370</a>\u001b[0m \u001b[39mself\u001b[39m\u001b[39m.\u001b[39m_FuncPtr \u001b[39m=\u001b[39m _FuncPtr\n\u001b[1;32m    <a href='file:///usr/lib/python3.8/ctypes/__init__.py?line=371'>372</a>\u001b[0m \u001b[39mif\u001b[39;00m handle \u001b[39mis\u001b[39;00m \u001b[39mNone\u001b[39;00m:\n\u001b[0;32m--> <a href='file:///usr/lib/python3.8/ctypes/__init__.py?line=372'>373</a>\u001b[0m     \u001b[39mself\u001b[39m\u001b[39m.\u001b[39m_handle \u001b[39m=\u001b[39m _dlopen(\u001b[39mself\u001b[39;49m\u001b[39m.\u001b[39;49m_name, mode)\n\u001b[1;32m    <a href='file:///usr/lib/python3.8/ctypes/__init__.py?line=373'>374</a>\u001b[0m \u001b[39melse\u001b[39;00m:\n\u001b[1;32m    <a href='file:///usr/lib/python3.8/ctypes/__init__.py?line=374'>375</a>\u001b[0m     \u001b[39mself\u001b[39m\u001b[39m.\u001b[39m_handle \u001b[39m=\u001b[39m handle\n",
      "\u001b[0;31mOSError\u001b[0m: posenet_lib/x86_64/posenet_decoder.so: cannot open shared object file: No such file or directory"
     ]
    }
   ],
   "source": [
    "engine = PoseEngine(\n",
    "    'models/mobilenet/posenet_mobilenet_v1_075_481_641_quant_decoder_edgetpu.tflite')\n",
    "poses, inference_time = engine.DetectPosesInImage(frames[0])"
   ]
  }
 ],
 "metadata": {
  "interpreter": {
   "hash": "767d51c1340bd893661ea55ea3124f6de3c7a262a8b4abca0554b478b1e2ff90"
  },
  "kernelspec": {
   "display_name": "Python 3.8.10 64-bit",
   "language": "python",
   "name": "python3"
  },
  "language_info": {
   "codemirror_mode": {
    "name": "ipython",
    "version": 3
   },
   "file_extension": ".py",
   "mimetype": "text/x-python",
   "name": "python",
   "nbconvert_exporter": "python",
   "pygments_lexer": "ipython3",
   "version": "3.8.10"
  },
  "orig_nbformat": 4
 },
 "nbformat": 4,
 "nbformat_minor": 2
}
