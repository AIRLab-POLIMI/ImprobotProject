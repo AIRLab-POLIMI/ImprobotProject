{
 "cells": [
  {
   "cell_type": "code",
   "execution_count": 1,
   "metadata": {},
   "outputs": [],
   "source": [
    "import os\n",
    "import json\n",
    "import copy, csv"
   ]
  },
  {
   "cell_type": "code",
   "execution_count": 2,
   "metadata": {},
   "outputs": [],
   "source": [
    "current_path = os.getcwd()\n",
    "video1_path = current_path + '/scenes/video1_scenes.json'\n",
    "video2_path = current_path + '/scenes/video2_scenes.json'\n",
    "video3_path = current_path + '/scenes/video3_scenes.json'\n",
    "video4_path = current_path + '/scenes/video4_scenes.json'"
   ]
  },
  {
   "cell_type": "code",
   "execution_count": 3,
   "metadata": {},
   "outputs": [],
   "source": [
    "with open(video1_path) as f:\n",
    "    video1_scenes = json.load(f)\n",
    "with open(video2_path) as f:\n",
    "    video2_scenes = json.load(f)\n",
    "with open(video3_path) as f:\n",
    "    video3_scenes = json.load(f)\n",
    "with open(video4_path) as f:\n",
    "    video4_scenes = json.load(f)\n",
    "\n"
   ]
  },
  {
   "attachments": {},
   "cell_type": "markdown",
   "metadata": {},
   "source": [
    "# Action-per-Action Model"
   ]
  },
  {
   "cell_type": "code",
   "execution_count": 4,
   "metadata": {},
   "outputs": [],
   "source": [
    "ACTIONS = [ \"none\",\n",
    "            \"attack\",\n",
    "            \"scolding\",\n",
    "            \"intimidate\",\n",
    "            \"grudge\",\n",
    "            \"sharing_happiness\",\n",
    "            \"happy_person\",\n",
    "            \"satisfaction\",\n",
    "            \"sharing_fear\",\n",
    "            \"running_away\",\n",
    "            \"sharing_sadness\",\n",
    "            \"disappointment\",\n",
    "            \"surprise\",\n",
    "            \"disbelief\",\n",
    "            \"astonishment\"\n",
    "            ]\n",
    "\n",
    "EMOTIONS = [\"none\",\n",
    "            \"fear\",\n",
    "            \"joy\",\n",
    "            \"surprise\",\n",
    "            \"sadness\",\n",
    "            \"anger\"\n",
    "            ]\n",
    "\n",
    "EMOTION_PER_ACTION = { \"none\": \"none\",\n",
    "            \"attack\" : \"anger\",\n",
    "            \"scolding\": \"anger\",\n",
    "            \"intimidate\": \"anger\",\n",
    "            \"grudge\": \"anger\",\n",
    "            \"sharing_happiness\": \"joy\",\n",
    "            \"happy_person\": \"joy\",\n",
    "            \"satisfaction\": \"joy\",\n",
    "            \"sharing_fear\": \"fear\",\n",
    "            \"running_away\": \"fear\",\n",
    "            \"sharing_sadness\": \"sadness\",\n",
    "            \"disappointment\": \"sadness\",\n",
    "            \"surprise\": \"surprise\",\n",
    "            \"disbelief\": \"surprise\",\n",
    "            \"astonishment\": \"surprise\"\n",
    "}"
   ]
  },
  {
   "cell_type": "code",
   "execution_count": 5,
   "metadata": {},
   "outputs": [
    {
     "name": "stdout",
     "output_type": "stream",
     "text": [
      "{1: [], 2: [], 3: [], 4: [], 5: [], 6: [], 7: [], 8: [], 9: [], 10: [], 11: [], 12: [], 13: [], 14: []}\n"
     ]
    }
   ],
   "source": [
    "P = {}\n",
    "for i, item in enumerate(ACTIONS):\n",
    "    P[i]=[]\n",
    "\n",
    "del P[0]\n",
    "\n",
    "print(P)"
   ]
  },
  {
   "cell_type": "code",
   "execution_count": 6,
   "metadata": {},
   "outputs": [],
   "source": [
    "# returns the code number of an action given by name\n",
    "def parse_action(action):\n",
    "    return ACTIONS.index(action)\n",
    "\n",
    "#returns the action associated to a code\n",
    "def unparse_action(code):\n",
    "    return ACTIONS[code]\n"
   ]
  },
  {
   "cell_type": "code",
   "execution_count": 7,
   "metadata": {},
   "outputs": [
    {
     "name": "stdout",
     "output_type": "stream",
     "text": [
      "{1: [[8, 4], [11, 3], [10, -1], [7, 0], [5, 0], [10, 0], [3, 2], [6, -4]], 2: [[11, 4], [10, 8], [1, 1], [2, 4], [10, 5], [8, 0], [14, 2]], 3: [[5, 12], [10, 2], [3, 3], [6, 4], [4, 0], [10, 4], [3, 3], [10, 3], [8, 2], [6, 2], [3, -1], [7, 0]], 4: [[8, 1], [11, -2], [10, 1], [3, 0], [10, -2], [11, 3], [10, 3], [10, 0]], 5: [[8, 10], [2, 1], [13, 6], [10, 14], [6, 6], [10, 1], [8, 1], [5, 1], [11, 2], [6, 2]], 6: [[6, 12], [6, 4], [6, 2], [6, 8], [2, 1], [5, 0], [12, -1], [11, -1], [11, -1], [8, 0], [3, -2], [14, 3]], 7: [[3, -1], [7, 0], [3, 7], [10, -1], [10, 0], [12, -1], [10, 5], [11, 3]], 8: [[8, 4], [3, 4], [10, 3], [7, 0], [5, 4], [8, 0], [3, 2], [8, 3], [10, 2], [8, 0]], 9: [[10, -3], [10, 0], [6, 4]], 10: [[12, -3], [6, 3], [2, 3], [4, 1], [13, 2], [8, 0], [12, 1], [8, -3], [3, 0], [3, 1], [10, 1], [10, 0]], 11: [[11, -1], [4, -1], [5, -1], [10, 0], [8, 1], [13, 0], [10, 1], [6, 0], [6, 0], [10, -1], [10, -6], [6, -3]], 12: [[11, 0], [6, 3], [6, 1], [10, 0], [10, 0], [6, 1], [6, 2], [7, 1], [14, 3], [10, -1], [5, 0], [10, -2], [4, 3], [6, 2], [12, 4], [8, 3], [8, 0], [11, -2], [10, 2]], 13: [[10, 3], [1, -1], [11, 5], [10, 0], [11, 3], [2, 0], [6, 0], [10, 2], [5, 0]], 14: [[7, 6], [10, 0], [3, 0], [3, 0], [6, 2], [7, -1], [7, 0], [10, 1], [6, 3], [2, 3], [2, 3], [2, 0], [11, 0], [5, 0], [4, 1], [3, 2], [10, 1], [3, 0], [11, 0], [14, -1], [14, 1], [5, 1], [10, 0], [6, -6]]}\n"
     ]
    }
   ],
   "source": [
    "dict = copy.deepcopy(P)\n",
    "\n",
    "for video in [video1_scenes, video2_scenes, video3_scenes, video4_scenes]:\n",
    "    for idx, scene in enumerate(video):\n",
    "        if idx<len(video)-1:\n",
    "            if video[idx][\"sequence_number\"] + 1 == video[idx+1][\"sequence_number\"]: #if the sequences are consequent\n",
    "                robot_reaction = video[idx][\"robot_reaction\"]\n",
    "                robot_reaction = parse_action(robot_reaction)\n",
    "                reward = video[idx][\"reward\"]\n",
    "                actor_action = video[idx+1][\"actor_scenicAction\"]\n",
    "                actor_action = parse_action(actor_action)\n",
    "                dict[robot_reaction].append([actor_action, reward])\n",
    "\n",
    "print(dict)"
   ]
  },
  {
   "cell_type": "code",
   "execution_count": 8,
   "metadata": {},
   "outputs": [
    {
     "name": "stdout",
     "output_type": "stream",
     "text": [
      "{1: [[0, 1, 0], [0, 2, 0], [1, 3, 2], [0, 4, 0], [1, 5, 0], [1, 6, -4], [1, 7, 0], [1, 8, 4], [0, 9, 0], [2, 10, -1], [1, 11, 3], [0, 12, 0], [0, 13, 0], [0, 14, 0]], 2: [[1, 1, 1], [1, 2, 4], [0, 3, 0], [0, 4, 0], [0, 5, 0], [0, 6, 0], [0, 7, 0], [1, 8, 0], [0, 9, 0], [2, 10, 13], [1, 11, 4], [0, 12, 0], [0, 13, 0], [1, 14, 2]], 3: [[0, 1, 0], [0, 2, 0], [3, 3, 5], [1, 4, 0], [1, 5, 12], [2, 6, 6], [1, 7, 0], [1, 8, 2], [0, 9, 0], [3, 10, 9], [0, 11, 0], [0, 12, 0], [0, 13, 0], [0, 14, 0]], 4: [[0, 1, 0], [0, 2, 0], [1, 3, 0], [0, 4, 0], [0, 5, 0], [0, 6, 0], [0, 7, 0], [1, 8, 1], [0, 9, 0], [4, 10, 2], [2, 11, 1], [0, 12, 0], [0, 13, 0], [0, 14, 0]], 5: [[0, 1, 0], [1, 2, 1], [0, 3, 0], [0, 4, 0], [1, 5, 1], [2, 6, 8], [0, 7, 0], [2, 8, 11], [0, 9, 0], [2, 10, 15], [1, 11, 2], [0, 12, 0], [1, 13, 6], [0, 14, 0]], 6: [[0, 1, 0], [1, 2, 1], [1, 3, -2], [0, 4, 0], [1, 5, 0], [4, 6, 26], [0, 7, 0], [1, 8, 0], [0, 9, 0], [0, 10, 0], [2, 11, -2], [1, 12, -1], [0, 13, 0], [1, 14, 3]], 7: [[0, 1, 0], [0, 2, 0], [2, 3, 6], [0, 4, 0], [0, 5, 0], [0, 6, 0], [1, 7, 0], [0, 8, 0], [0, 9, 0], [3, 10, 4], [1, 11, 3], [1, 12, -1], [0, 13, 0], [0, 14, 0]], 8: [[0, 1, 0], [0, 2, 0], [2, 3, 6], [0, 4, 0], [1, 5, 4], [0, 6, 0], [1, 7, 0], [4, 8, 7], [0, 9, 0], [2, 10, 5], [0, 11, 0], [0, 12, 0], [0, 13, 0], [0, 14, 0]], 9: [[0, 1, 0], [0, 2, 0], [0, 3, 0], [0, 4, 0], [0, 5, 0], [1, 6, 4], [0, 7, 0], [0, 8, 0], [0, 9, 0], [2, 10, -3], [0, 11, 0], [0, 12, 0], [0, 13, 0], [0, 14, 0]], 10: [[0, 1, 0], [1, 2, 3], [2, 3, 1], [1, 4, 1], [0, 5, 0], [1, 6, 3], [0, 7, 0], [2, 8, -3], [0, 9, 0], [2, 10, 1], [0, 11, 0], [2, 12, -2], [1, 13, 2], [0, 14, 0]], 11: [[0, 1, 0], [0, 2, 0], [0, 3, 0], [1, 4, -1], [1, 5, -1], [3, 6, -3], [0, 7, 0], [1, 8, 1], [0, 9, 0], [4, 10, -6], [1, 11, -1], [0, 12, 0], [1, 13, 0], [0, 14, 0]], 12: [[0, 1, 0], [0, 2, 0], [0, 3, 0], [1, 4, 3], [1, 5, 0], [5, 6, 9], [1, 7, 1], [2, 8, 3], [0, 9, 0], [5, 10, -1], [2, 11, -2], [1, 12, 4], [0, 13, 0], [1, 14, 3]], 13: [[1, 1, -1], [1, 2, 0], [0, 3, 0], [0, 4, 0], [1, 5, 0], [1, 6, 0], [0, 7, 0], [0, 8, 0], [0, 9, 0], [3, 10, 5], [2, 11, 8], [0, 12, 0], [0, 13, 0], [0, 14, 0]], 14: [[0, 1, 0], [3, 2, 6], [4, 3, 2], [1, 4, 1], [2, 5, 1], [3, 6, -1], [3, 7, 5], [0, 8, 0], [0, 9, 0], [4, 10, 2], [2, 11, 0], [0, 12, 0], [0, 13, 0], [2, 14, 0]]}\n"
     ]
    }
   ],
   "source": [
    "for k in dict.keys():\n",
    "    action_count = 0\n",
    "    reward_count = 0\n",
    "    for actor_action in range(1,15):\n",
    "        action_count = 0\n",
    "        reward_count = 0\n",
    "        for item in dict[k]:\n",
    "            if item[0]==actor_action:\n",
    "                action_count += 1\n",
    "                reward_count += item[1]\n",
    "        P[k].append([action_count, actor_action, reward_count])\n",
    "        \n",
    "print(P)"
   ]
  },
  {
   "cell_type": "code",
   "execution_count": 9,
   "metadata": {},
   "outputs": [],
   "source": [
    "header = [\n",
    "    \"P(actor action | robot reaction)\",\n",
    "    \"attack\",\n",
    "    \"scolding\",\n",
    "    \"intimidate\",\n",
    "    \"grudge\",\n",
    "    \"sharing_happiness\",\n",
    "    \"happy_person\",\n",
    "    \"satisfaction\",\n",
    "    \"sharing_fear\",\n",
    "    \"running_away\",\n",
    "    \"sharing_sadness\",\n",
    "    \"disappointment\",\n",
    "    \"surprise\",\n",
    "    \"disbelief\",\n",
    "    \"astonishment\"\n",
    "]\n",
    "\n",
    "filename = \"P.csv\"\n",
    "\n",
    "with open(filename, \"w\", newline=\"\") as csvfile:\n",
    "    writer = csv.writer(csvfile)\n",
    "    writer.writerow(header)\n",
    "    for key, values in P.items():\n",
    "        writer.writerow([unparse_action(key)] + values)"
   ]
  },
  {
   "cell_type": "code",
   "execution_count": 10,
   "metadata": {},
   "outputs": [
    {
     "name": "stdout",
     "output_type": "stream",
     "text": [
      "{1: [[1, 3, 2], [1, 5, 0], [1, 6, -4], [1, 7, 0], [1, 8, 4], [2, 10, -1], [1, 11, 3]], 2: [[1, 1, 1], [1, 2, 4], [1, 8, 0], [2, 10, 13], [1, 11, 4], [1, 14, 2]], 3: [[3, 3, 5], [1, 4, 0], [1, 5, 12], [2, 6, 6], [1, 7, 0], [1, 8, 2], [3, 10, 9]], 4: [[1, 3, 0], [1, 8, 1], [4, 10, 2], [2, 11, 1]], 5: [[1, 2, 1], [1, 5, 1], [2, 6, 8], [2, 8, 11], [2, 10, 15], [1, 11, 2], [1, 13, 6]], 6: [[1, 2, 1], [1, 3, -2], [1, 5, 0], [4, 6, 26], [1, 8, 0], [2, 11, -2], [1, 12, -1], [1, 14, 3]], 7: [[2, 3, 6], [1, 7, 0], [3, 10, 4], [1, 11, 3], [1, 12, -1]], 8: [[2, 3, 6], [1, 5, 4], [1, 7, 0], [4, 8, 7], [2, 10, 5]], 9: [[1, 6, 4], [2, 10, -3]], 10: [[1, 2, 3], [2, 3, 1], [1, 4, 1], [1, 6, 3], [2, 8, -3], [2, 10, 1], [2, 12, -2], [1, 13, 2]], 11: [[1, 4, -1], [1, 5, -1], [3, 6, -3], [1, 8, 1], [4, 10, -6], [1, 11, -1], [1, 13, 0]], 12: [[1, 4, 3], [1, 5, 0], [5, 6, 9], [1, 7, 1], [2, 8, 3], [5, 10, -1], [2, 11, -2], [1, 12, 4], [1, 14, 3]], 13: [[1, 1, -1], [1, 2, 0], [1, 5, 0], [1, 6, 0], [3, 10, 5], [2, 11, 8]], 14: [[3, 2, 6], [4, 3, 2], [1, 4, 1], [2, 5, 1], [3, 6, -1], [3, 7, 5], [4, 10, 2], [2, 11, 0], [2, 14, 0]]}\n"
     ]
    }
   ],
   "source": [
    "# clear P from unuseful information\n",
    "new_P = copy.deepcopy(P)\n",
    "for k in P.keys():\n",
    "    for item in P[k]:\n",
    "        if item[0]==0:\n",
    "            new_P[k].remove(item)\n",
    "\n",
    "P = new_P\n",
    "print(P)"
   ]
  },
  {
   "cell_type": "code",
   "execution_count": 11,
   "metadata": {},
   "outputs": [
    {
     "name": "stdout",
     "output_type": "stream",
     "text": [
      "154\n"
     ]
    }
   ],
   "source": [
    "new_P = copy.deepcopy(P)\n",
    "count = 0\n",
    "for k in P.keys():\n",
    "    for item in P[k]:\n",
    "        count += item[0]\n",
    "\n",
    "print(count)"
   ]
  },
  {
   "cell_type": "code",
   "execution_count": 12,
   "metadata": {},
   "outputs": [
    {
     "name": "stdout",
     "output_type": "stream",
     "text": [
      "samples_numb = 9\n",
      "element = [1, 1, -1]\n",
      "samples_numb = 9\n",
      "element = [1, 2, 0]\n",
      "samples_numb = 9\n",
      "element = [1, 5, 0]\n",
      "samples_numb = 9\n",
      "element = [1, 6, 0]\n",
      "samples_numb = 9\n",
      "element = [3, 10, 5]\n",
      "samples_numb = 9\n",
      "element = [2, 11, 8]\n",
      "{1: [[0.125, 3, 2], [0.125, 5, 0], [0.125, 6, -4], [0.125, 7, 0], [0.125, 8, 4], [0.25, 10, -1], [0.125, 11, 3]], 2: [[0.14285714285714285, 1, 1], [0.14285714285714285, 2, 4], [0.14285714285714285, 8, 0], [0.2857142857142857, 10, 13], [0.14285714285714285, 11, 4], [0.14285714285714285, 14, 2]], 3: [[0.25, 3, 5], [0.08333333333333333, 4, 0], [0.08333333333333333, 5, 12], [0.16666666666666666, 6, 6], [0.08333333333333333, 7, 0], [0.08333333333333333, 8, 2], [0.25, 10, 9]], 4: [[0.125, 3, 0], [0.125, 8, 1], [0.5, 10, 2], [0.25, 11, 1]], 5: [[0.1, 2, 1], [0.1, 5, 1], [0.2, 6, 8], [0.2, 8, 11], [0.2, 10, 15], [0.1, 11, 2], [0.1, 13, 6]], 6: [[0.08333333333333333, 2, 1], [0.08333333333333333, 3, -2], [0.08333333333333333, 5, 0], [0.3333333333333333, 6, 26], [0.08333333333333333, 8, 0], [0.16666666666666666, 11, -2], [0.08333333333333333, 12, -1], [0.08333333333333333, 14, 3]], 7: [[0.25, 3, 6], [0.125, 7, 0], [0.375, 10, 4], [0.125, 11, 3], [0.125, 12, -1]], 8: [[0.2, 3, 6], [0.1, 5, 4], [0.1, 7, 0], [0.4, 8, 7], [0.2, 10, 5]], 9: [[0.3333333333333333, 6, 4], [0.6666666666666666, 10, -3]], 10: [[0.08333333333333333, 2, 3], [0.16666666666666666, 3, 1], [0.08333333333333333, 4, 1], [0.08333333333333333, 6, 3], [0.16666666666666666, 8, -3], [0.16666666666666666, 10, 1], [0.16666666666666666, 12, -2], [0.08333333333333333, 13, 2]], 11: [[0.08333333333333333, 4, -1], [0.08333333333333333, 5, -1], [0.25, 6, -3], [0.08333333333333333, 8, 1], [0.3333333333333333, 10, -6], [0.08333333333333333, 11, -1], [0.08333333333333333, 13, 0]], 12: [[0.05263157894736842, 4, 3], [0.05263157894736842, 5, 0], [0.2631578947368421, 6, 9], [0.05263157894736842, 7, 1], [0.10526315789473684, 8, 3], [0.2631578947368421, 10, -1], [0.10526315789473684, 11, -2], [0.05263157894736842, 12, 4], [0.05263157894736842, 14, 3]], 13: [[0.1111111111111111, 1, -1], [0.1111111111111111, 2, 0], [0.1111111111111111, 5, 0], [0.1111111111111111, 6, 0], [0.3333333333333333, 10, 5], [0.2222222222222222, 11, 8]], 14: [[0.125, 2, 6], [0.16666666666666666, 3, 2], [0.041666666666666664, 4, 1], [0.08333333333333333, 5, 1], [0.125, 6, -1], [0.125, 7, 5], [0.16666666666666666, 10, 2], [0.08333333333333333, 11, 0], [0.08333333333333333, 14, 0]]}\n"
     ]
    }
   ],
   "source": [
    "new_P = copy.deepcopy(P)\n",
    "\n",
    "for k in P.keys():\n",
    "    samples_numb = 0\n",
    "    for elem in P[k]:\n",
    "        samples_numb += elem[0]\n",
    "    for idx, item in enumerate(P[k]):\n",
    "        probability = item[0] / samples_numb\n",
    "        if k == 13:\n",
    "            print(f\"samples_numb = {samples_numb}\")\n",
    "            print(f\"element = {item}\")\n",
    "        new_P[k][idx][0]=probability\n",
    "\n",
    "P = new_P\n",
    "print(P)"
   ]
  },
  {
   "cell_type": "code",
   "execution_count": 13,
   "metadata": {},
   "outputs": [
    {
     "name": "stdout",
     "output_type": "stream",
     "text": [
      "attack: [  [0.125, 'intimidate', 2]   [0.125, 'sharing_happiness', 0]   [0.125, 'happy_person', -4]   [0.125, 'satisfaction', 0]   [0.125, 'sharing_fear', 4]   [0.25, 'sharing_sadness', -1]   [0.125, 'disappointment', 3]  ]\n",
      "\n",
      "\n",
      "scolding: [  [0.14285714285714285, 'attack', 1]   [0.14285714285714285, 'scolding', 4]   [0.14285714285714285, 'sharing_fear', 0]   [0.2857142857142857, 'sharing_sadness', 13]   [0.14285714285714285, 'disappointment', 4]   [0.14285714285714285, 'astonishment', 2]  ]\n",
      "\n",
      "\n",
      "intimidate: [  [0.25, 'intimidate', 5]   [0.08333333333333333, 'grudge', 0]   [0.08333333333333333, 'sharing_happiness', 12]   [0.16666666666666666, 'happy_person', 6]   [0.08333333333333333, 'satisfaction', 0]   [0.08333333333333333, 'sharing_fear', 2]   [0.25, 'sharing_sadness', 9]  ]\n",
      "\n",
      "\n",
      "grudge: [  [0.125, 'intimidate', 0]   [0.125, 'sharing_fear', 1]   [0.5, 'sharing_sadness', 2]   [0.25, 'disappointment', 1]  ]\n",
      "\n",
      "\n",
      "sharing_happiness: [  [0.1, 'scolding', 1]   [0.1, 'sharing_happiness', 1]   [0.2, 'happy_person', 8]   [0.2, 'sharing_fear', 11]   [0.2, 'sharing_sadness', 15]   [0.1, 'disappointment', 2]   [0.1, 'disbelief', 6]  ]\n",
      "\n",
      "\n",
      "happy_person: [  [0.08333333333333333, 'scolding', 1]   [0.08333333333333333, 'intimidate', -2]   [0.08333333333333333, 'sharing_happiness', 0]   [0.3333333333333333, 'happy_person', 26]   [0.08333333333333333, 'sharing_fear', 0]   [0.16666666666666666, 'disappointment', -2]   [0.08333333333333333, 'surprise', -1]   [0.08333333333333333, 'astonishment', 3]  ]\n",
      "\n",
      "\n",
      "satisfaction: [  [0.25, 'intimidate', 6]   [0.125, 'satisfaction', 0]   [0.375, 'sharing_sadness', 4]   [0.125, 'disappointment', 3]   [0.125, 'surprise', -1]  ]\n",
      "\n",
      "\n",
      "sharing_fear: [  [0.2, 'intimidate', 6]   [0.1, 'sharing_happiness', 4]   [0.1, 'satisfaction', 0]   [0.4, 'sharing_fear', 7]   [0.2, 'sharing_sadness', 5]  ]\n",
      "\n",
      "\n",
      "running_away: [  [0.3333333333333333, 'happy_person', 4]   [0.6666666666666666, 'sharing_sadness', -3]  ]\n",
      "\n",
      "\n",
      "sharing_sadness: [  [0.08333333333333333, 'scolding', 3]   [0.16666666666666666, 'intimidate', 1]   [0.08333333333333333, 'grudge', 1]   [0.08333333333333333, 'happy_person', 3]   [0.16666666666666666, 'sharing_fear', -3]   [0.16666666666666666, 'sharing_sadness', 1]   [0.16666666666666666, 'surprise', -2]   [0.08333333333333333, 'disbelief', 2]  ]\n",
      "\n",
      "\n",
      "disappointment: [  [0.08333333333333333, 'grudge', -1]   [0.08333333333333333, 'sharing_happiness', -1]   [0.25, 'happy_person', -3]   [0.08333333333333333, 'sharing_fear', 1]   [0.3333333333333333, 'sharing_sadness', -6]   [0.08333333333333333, 'disappointment', -1]   [0.08333333333333333, 'disbelief', 0]  ]\n",
      "\n",
      "\n",
      "surprise: [  [0.05263157894736842, 'grudge', 3]   [0.05263157894736842, 'sharing_happiness', 0]   [0.2631578947368421, 'happy_person', 9]   [0.05263157894736842, 'satisfaction', 1]   [0.10526315789473684, 'sharing_fear', 3]   [0.2631578947368421, 'sharing_sadness', -1]   [0.10526315789473684, 'disappointment', -2]   [0.05263157894736842, 'surprise', 4]   [0.05263157894736842, 'astonishment', 3]  ]\n",
      "\n",
      "\n",
      "disbelief: [  [0.1111111111111111, 'attack', -1]   [0.1111111111111111, 'scolding', 0]   [0.1111111111111111, 'sharing_happiness', 0]   [0.1111111111111111, 'happy_person', 0]   [0.3333333333333333, 'sharing_sadness', 5]   [0.2222222222222222, 'disappointment', 8]  ]\n",
      "\n",
      "\n",
      "astonishment: [  [0.125, 'scolding', 6]   [0.16666666666666666, 'intimidate', 2]   [0.041666666666666664, 'grudge', 1]   [0.08333333333333333, 'sharing_happiness', 1]   [0.125, 'happy_person', -1]   [0.125, 'satisfaction', 5]   [0.16666666666666666, 'sharing_sadness', 2]   [0.08333333333333333, 'disappointment', 0]   [0.08333333333333333, 'astonishment', 0]  ]\n",
      "\n",
      "\n"
     ]
    }
   ],
   "source": [
    "# visualize P\n",
    "for k in P.keys():\n",
    "    action = unparse_action(k)\n",
    "    print(f\"{action}: [\", end=' ')\n",
    "    for item in P[k]:\n",
    "        to_show = [item[0], unparse_action(item[1]), item[2]]\n",
    "        print(f\" {to_show} \", end=' ')\n",
    "    print(\"]\")\n",
    "    print('\\n')"
   ]
  },
  {
   "cell_type": "code",
   "execution_count": null,
   "metadata": {},
   "outputs": [],
   "source": []
  },
  {
   "attachments": {},
   "cell_type": "markdown",
   "metadata": {},
   "source": [
    "## Data coverage analysis"
   ]
  },
  {
   "cell_type": "code",
   "execution_count": 14,
   "metadata": {},
   "outputs": [
    {
     "name": "stdout",
     "output_type": "stream",
     "text": [
      "number of states explored: 90\n",
      "total number of states: 196\n",
      "states coverage = 0.45918367346938777\n"
     ]
    }
   ],
   "source": [
    "n_states_explored = 0\n",
    "\n",
    "for k in P.keys():\n",
    "    n_states_explored += len(P[k])\n",
    "\n",
    "n_states = 14*14\n",
    "coverage = n_states_explored/n_states\n",
    "print(f\"number of states explored: {n_states_explored}\")\n",
    "print(f\"total number of states: {n_states}\")\n",
    "print(f\"states coverage = {coverage}\")\n"
   ]
  },
  {
   "attachments": {},
   "cell_type": "markdown",
   "metadata": {},
   "source": [
    "## P saving"
   ]
  },
  {
   "cell_type": "code",
   "execution_count": 15,
   "metadata": {},
   "outputs": [],
   "source": [
    "# save P\n",
    "with open('P_action_per_action.json', 'w') as f:\n",
    "    json.dump(P,f)"
   ]
  },
  {
   "attachments": {},
   "cell_type": "markdown",
   "metadata": {},
   "source": [
    "# Action-per-Emotion Model"
   ]
  },
  {
   "cell_type": "code",
   "execution_count": 16,
   "metadata": {},
   "outputs": [],
   "source": [
    "# returns the code number of an action given by name\n",
    "def parse_emotion(action):\n",
    "    return EMOTIONS.index(action)\n",
    "\n",
    "#returns the action associated to a code\n",
    "def unparse_emotion(code):\n",
    "    return EMOTIONS[code]\n",
    "\n",
    "def convert_action_into_emo(action):\n",
    "    return EMOTION_PER_ACTION[action]"
   ]
  },
  {
   "cell_type": "code",
   "execution_count": 17,
   "metadata": {},
   "outputs": [
    {
     "name": "stdout",
     "output_type": "stream",
     "text": [
      "{1: [], 2: [], 3: [], 4: [], 5: []}\n",
      "{1: [[8, 4], [10, -3], [3, 4], [10, 3], [7, 0], [5, 4], [10, 0], [6, 4], [8, 0], [3, 2], [8, 3], [10, 2], [8, 0]], 2: [[8, 10], [6, 12], [2, 1], [6, 4], [13, 6], [10, 14], [6, 6], [6, 2], [3, -1], [7, 0], [6, 8], [3, 7], [2, 1], [10, -1], [5, 0], [12, -1], [11, -1], [10, 0], [10, 1], [8, 1], [11, -1], [8, 0], [3, -2], [12, -1], [5, 1], [11, 2], [10, 5], [11, 3], [6, 2], [14, 3]], 3: [[11, 0], [6, 3], [6, 1], [7, 6], [10, 0], [10, 0], [10, 3], [1, -1], [10, 0], [6, 1], [6, 2], [3, 0], [3, 0], [6, 2], [7, -1], [7, 1], [7, 0], [10, 1], [6, 3], [14, 3], [2, 3], [2, 3], [11, 5], [2, 0], [11, 0], [10, 0], [11, 3], [5, 0], [4, 1], [3, 2], [10, 1], [3, 0], [10, -1], [5, 0], [2, 0], [11, 0], [14, -1], [14, 1], [10, -2], [4, 3], [5, 1], [6, 2], [6, 0], [12, 4], [10, 2], [10, 0], [8, 3], [8, 0], [5, 0], [11, -2], [10, 2], [6, -6]], 4: [[12, -3], [6, 3], [11, -1], [4, -1], [2, 3], [4, 1], [5, -1], [10, 0], [13, 2], [8, 1], [13, 0], [8, 0], [10, 1], [6, 0], [6, 0], [12, 1], [10, -1], [10, -6], [8, -3], [3, 0], [3, 1], [10, 1], [6, -3], [10, 0]], 5: [[5, 12], [10, 2], [3, 3], [8, 4], [6, 4], [11, 3], [11, 4], [8, 1], [10, 8], [4, 0], [10, -1], [7, 0], [1, 1], [10, 4], [11, -2], [5, 0], [2, 4], [3, 3], [10, 5], [10, 3], [8, 2], [10, 1], [8, 0], [3, 0], [10, -2], [10, 0], [6, 2], [14, 2], [3, -1], [11, 3], [7, 0], [3, 2], [10, 3], [10, 0], [6, -4]]}\n",
      "P with action counts and rewards: {1: [[0, 1, 0], [0, 2, 0], [2, 3, 6], [0, 4, 0], [1, 5, 4], [1, 6, 4], [1, 7, 0], [4, 8, 7], [0, 9, 0], [4, 10, 2], [0, 11, 0], [0, 12, 0], [0, 13, 0], [0, 14, 0]], 2: [[0, 1, 0], [2, 2, 2], [3, 3, 4], [0, 4, 0], [2, 5, 1], [6, 6, 34], [1, 7, 0], [3, 8, 11], [0, 9, 0], [5, 10, 19], [4, 11, 3], [2, 12, -2], [1, 13, 6], [1, 14, 3]], 3: [[1, 1, -1], [4, 2, 6], [4, 3, 2], [2, 4, 4], [4, 5, 1], [9, 6, 8], [4, 7, 6], [2, 8, 3], [0, 9, 0], [12, 10, 6], [6, 11, 6], [1, 12, 4], [0, 13, 0], [3, 14, 3]], 4: [[0, 1, 0], [1, 2, 3], [2, 3, 1], [2, 4, 0], [1, 5, -1], [4, 6, 0], [0, 7, 0], [3, 8, -2], [0, 9, 0], [6, 10, -5], [1, 11, -1], [2, 12, -2], [2, 13, 2], [0, 14, 0]], 5: [[1, 1, 1], [1, 2, 4], [5, 3, 7], [1, 4, 0], [2, 5, 12], [3, 6, 2], [2, 7, 0], [4, 8, 7], [0, 9, 0], [11, 10, 23], [4, 11, 8], [0, 12, 0], [0, 13, 0], [1, 14, 2]]}\n",
      "clear P: {1: [[2, 3, 6], [1, 5, 4], [1, 6, 4], [1, 7, 0], [4, 8, 7], [4, 10, 2]], 2: [[2, 2, 2], [3, 3, 4], [2, 5, 1], [6, 6, 34], [1, 7, 0], [3, 8, 11], [5, 10, 19], [4, 11, 3], [2, 12, -2], [1, 13, 6], [1, 14, 3]], 3: [[1, 1, -1], [4, 2, 6], [4, 3, 2], [2, 4, 4], [4, 5, 1], [9, 6, 8], [4, 7, 6], [2, 8, 3], [12, 10, 6], [6, 11, 6], [1, 12, 4], [3, 14, 3]], 4: [[1, 2, 3], [2, 3, 1], [2, 4, 0], [1, 5, -1], [4, 6, 0], [3, 8, -2], [6, 10, -5], [1, 11, -1], [2, 12, -2], [2, 13, 2]], 5: [[1, 1, 1], [1, 2, 4], [5, 3, 7], [1, 4, 0], [2, 5, 12], [3, 6, 2], [2, 7, 0], [4, 8, 7], [11, 10, 23], [4, 11, 8], [1, 14, 2]]}\n",
      "{1: [[0.15384615384615385, 3, 6], [0.07692307692307693, 5, 4], [0.07692307692307693, 6, 4], [0.07692307692307693, 7, 0], [0.3076923076923077, 8, 7], [0.3076923076923077, 10, 2]], 2: [[0.06666666666666667, 2, 2], [0.1, 3, 4], [0.06666666666666667, 5, 1], [0.2, 6, 34], [0.03333333333333333, 7, 0], [0.1, 8, 11], [0.16666666666666666, 10, 19], [0.13333333333333333, 11, 3], [0.06666666666666667, 12, -2], [0.03333333333333333, 13, 6], [0.03333333333333333, 14, 3]], 3: [[0.019230769230769232, 1, -1], [0.07692307692307693, 2, 6], [0.07692307692307693, 3, 2], [0.038461538461538464, 4, 4], [0.07692307692307693, 5, 1], [0.17307692307692307, 6, 8], [0.07692307692307693, 7, 6], [0.038461538461538464, 8, 3], [0.23076923076923078, 10, 6], [0.11538461538461539, 11, 6], [0.019230769230769232, 12, 4], [0.057692307692307696, 14, 3]], 4: [[0.041666666666666664, 2, 3], [0.08333333333333333, 3, 1], [0.08333333333333333, 4, 0], [0.041666666666666664, 5, -1], [0.16666666666666666, 6, 0], [0.125, 8, -2], [0.25, 10, -5], [0.041666666666666664, 11, -1], [0.08333333333333333, 12, -2], [0.08333333333333333, 13, 2]], 5: [[0.02857142857142857, 1, 1], [0.02857142857142857, 2, 4], [0.14285714285714285, 3, 7], [0.02857142857142857, 4, 0], [0.05714285714285714, 5, 12], [0.08571428571428572, 6, 2], [0.05714285714285714, 7, 0], [0.11428571428571428, 8, 7], [0.3142857142857143, 10, 23], [0.11428571428571428, 11, 8], [0.02857142857142857, 14, 2]]}\n"
     ]
    }
   ],
   "source": [
    "P = {}\n",
    "for i, item in enumerate(EMOTIONS):\n",
    "    P[i]=[]\n",
    "\n",
    "del P[0]\n",
    "\n",
    "print(P)\n",
    "\n",
    "dict = copy.deepcopy(P)\n",
    "\n",
    "for video in [video1_scenes, video2_scenes, video3_scenes, video4_scenes]:\n",
    "    for idx, scene in enumerate(video):\n",
    "        if idx<len(video)-1:\n",
    "            if video[idx][\"sequence_number\"] + 1 == video[idx+1][\"sequence_number\"]: #if the sequences are consequent\n",
    "                robot_reaction = video[idx][\"robot_reaction\"]\n",
    "                robot_reaction = convert_action_into_emo(robot_reaction)\n",
    "                robot_reaction = parse_emotion(robot_reaction)\n",
    "                reward = video[idx][\"reward\"]\n",
    "                actor_action = video[idx+1][\"actor_scenicAction\"]\n",
    "                actor_action = parse_action(actor_action)\n",
    "                dict[robot_reaction].append([actor_action, reward])\n",
    "\n",
    "print(dict)\n",
    "\n",
    "for k in dict.keys():\n",
    "    action_count = 0\n",
    "    reward_count = 0\n",
    "    for actor_action in range(1,15):\n",
    "        action_count = 0\n",
    "        reward_count = 0\n",
    "        for item in dict[k]:\n",
    "            if item[0]==actor_action:\n",
    "                action_count += 1\n",
    "                reward_count += item[1]\n",
    "        P[k].append([action_count, actor_action, reward_count])\n",
    "        \n",
    "print(f\"P with action counts and rewards: {P}\")\n",
    "\n",
    "# clear P from unuseful information\n",
    "new_P = copy.deepcopy(P)\n",
    "for k in P.keys():\n",
    "    for item in P[k]:\n",
    "        if item[0]==0:\n",
    "            new_P[k].remove(item)\n",
    "\n",
    "P = new_P\n",
    "print(f\"clear P: {P}\")\n",
    "\n",
    "new_P = copy.deepcopy(P)\n",
    "\n",
    "for k in P.keys():\n",
    "    samples_numb = 0\n",
    "    for elem in P[k]:\n",
    "        samples_numb += elem[0]\n",
    "    for idx, item in enumerate(P[k]):\n",
    "        probability = item[0] / samples_numb\n",
    "\n",
    "        new_P[k][idx][0]=probability\n",
    "\n",
    "P = new_P\n",
    "print(P)"
   ]
  },
  {
   "attachments": {},
   "cell_type": "markdown",
   "metadata": {},
   "source": [
    "## Data coverage analysis"
   ]
  },
  {
   "cell_type": "code",
   "execution_count": 18,
   "metadata": {},
   "outputs": [
    {
     "name": "stdout",
     "output_type": "stream",
     "text": [
      "number of states explored: 50\n",
      "total number of states: 70\n",
      "states coverage = 0.7142857142857143\n"
     ]
    }
   ],
   "source": [
    "n_states_explored = 0\n",
    "\n",
    "for k in P.keys():\n",
    "    n_states_explored += len(P[k])\n",
    "\n",
    "n_states = 14*5\n",
    "coverage = n_states_explored/n_states\n",
    "print(f\"number of states explored: {n_states_explored}\")\n",
    "print(f\"total number of states: {n_states}\")\n",
    "print(f\"states coverage = {coverage}\")\n"
   ]
  },
  {
   "attachments": {},
   "cell_type": "markdown",
   "metadata": {},
   "source": [
    "## P saving"
   ]
  },
  {
   "cell_type": "code",
   "execution_count": 19,
   "metadata": {},
   "outputs": [],
   "source": [
    "\n",
    "# save P\n",
    "with open('P_action_per_emotion.json', 'w') as f:\n",
    "    json.dump(P,f)"
   ]
  }
 ],
 "metadata": {
  "kernelspec": {
   "display_name": "Python 3",
   "language": "python",
   "name": "python3"
  },
  "language_info": {
   "codemirror_mode": {
    "name": "ipython",
    "version": 3
   },
   "file_extension": ".py",
   "mimetype": "text/x-python",
   "name": "python",
   "nbconvert_exporter": "python",
   "pygments_lexer": "ipython3",
   "version": "3.10.11"
  },
  "orig_nbformat": 4
 },
 "nbformat": 4,
 "nbformat_minor": 2
}
